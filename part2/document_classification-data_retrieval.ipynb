{
 "cells": [
  {
   "cell_type": "code",
   "execution_count": 1,
   "metadata": {},
   "outputs": [],
   "source": [
    "import praw\n",
    "import sqlite3\n",
    "from tqdm import tqdm"
   ]
  },
  {
   "cell_type": "code",
   "execution_count": 2,
   "metadata": {},
   "outputs": [],
   "source": [
    "# Load secret keys from credentials.json\n",
    "import json\n",
    "with open('credentials.json') as f:\n",
    "    params = json.load(f)"
   ]
  },
  {
   "cell_type": "code",
   "execution_count": 3,
   "metadata": {},
   "outputs": [],
   "source": [
    "user_agent = \"Introducing Data Science Book\"\n",
    "\n",
    "reddit = praw.Reddit(client_id=params['client_id'], \n",
    "                     client_secret=params['api_key'],\n",
    "                     password=params['password'], \n",
    "                     user_agent=user_agent,\n",
    "                     username=params['username'])"
   ]
  },
  {
   "cell_type": "code",
   "execution_count": 4,
   "metadata": {},
   "outputs": [],
   "source": [
    "conn = sqlite3.connect('reddit.db')\n",
    "c = conn.cursor()\n",
    "\n",
    "c.execute('''DROP TABLE IF EXISTS topics''')\n",
    "c.execute('''DROP TABLE IF EXISTS comments''')\n",
    "c.execute('''CREATE TABLE topics\n",
    "             (topicTitle text, topicText text, topicID text, topicCategory text)\n",
    "          ''')\n",
    "c.execute('''CREATE TABLE comments\n",
    "             (commentText text, commentID text, topicTitle text, topicText text, topicID text, topicCategory text)\n",
    "          ''')\n",
    "\n",
    "\n",
    "subreddits = ['datascience', 'gameofthrones']\n",
    "\n",
    "limit = 100"
   ]
  },
  {
   "cell_type": "code",
   "execution_count": 9,
   "metadata": {},
   "outputs": [],
   "source": [
    "def prawGetData(limit, subredditName):\n",
    "  \n",
    "    topics = reddit.subreddit(subredditName).hot(limit=limit)\n",
    "    commentInsert = []\n",
    "    topicInsert = []\n",
    "    topicNBR = 1\n",
    "    \n",
    "    for i,topic in zip(tqdm(range(limit)),topics):\n",
    "        \n",
    "        print('********** TOPIC: ' + str(topic.id)\n",
    "              + '********** COMPLETE: ' + str((float(topicNBR)/limit)*100)\n",
    "              + ' % ****'\n",
    "             )\n",
    "        topicNBR +=1\n",
    "\n",
    "        try:\n",
    "            topicInsert.append((topic.title, topic.selftext, topic.id, subredditName))\n",
    "        except:\n",
    "            pass\n",
    "\n",
    "        try:\n",
    "            for comment in topic.comments:\n",
    "                commentInsert.append((comment.body, comment.id, topic.title, topic.selftext, topic.id, subreddit.Name))\n",
    "        except:\n",
    "            pass\n",
    "\n",
    "        print('******************************')\n",
    "        print('INSERTING DATA INTO SQLITE')\n",
    "        c.executemany('INSERT INTO topics VALUES (?,?,?,?)', topicInsert)\n",
    "        print('INSERTED COMMENTS')\n",
    "        conn.commit()"
   ]
  },
  {
   "cell_type": "code",
   "execution_count": 10,
   "metadata": {},
   "outputs": [
    {
     "name": "stderr",
     "output_type": "stream",
     "text": [
      "\r",
      "  0%|          | 0/100 [00:00<?, ?it/s]"
     ]
    },
    {
     "name": "stdout",
     "output_type": "stream",
     "text": [
      "********** TOPIC: i2axmg********** COMPLETE: 1.0 % ****\n"
     ]
    },
    {
     "name": "stderr",
     "output_type": "stream",
     "text": [
      "\r",
      "  1%|          | 1/100 [00:02<03:49,  2.32s/it]"
     ]
    },
    {
     "name": "stdout",
     "output_type": "stream",
     "text": [
      "******************************\n",
      "INSERTING DATA INTO SQLITE\n",
      "INSERTED COMMENTS\n",
      "********** TOPIC: i3o4fe********** COMPLETE: 2.0 % ****\n"
     ]
    },
    {
     "name": "stderr",
     "output_type": "stream",
     "text": [
      "\r",
      "  2%|▏         | 2/100 [00:03<03:18,  2.02s/it]"
     ]
    },
    {
     "name": "stdout",
     "output_type": "stream",
     "text": [
      "******************************\n",
      "INSERTING DATA INTO SQLITE\n",
      "INSERTED COMMENTS\n",
      "********** TOPIC: i3lf31********** COMPLETE: 3.0 % ****\n"
     ]
    },
    {
     "name": "stderr",
     "output_type": "stream",
     "text": [
      "\r",
      "  3%|▎         | 3/100 [00:03<02:26,  1.51s/it]"
     ]
    },
    {
     "name": "stdout",
     "output_type": "stream",
     "text": [
      "******************************\n",
      "INSERTING DATA INTO SQLITE\n",
      "INSERTED COMMENTS\n",
      "********** TOPIC: i3rkod********** COMPLETE: 4.0 % ****\n"
     ]
    },
    {
     "name": "stderr",
     "output_type": "stream",
     "text": [
      "  5%|▌         | 5/100 [00:04<01:21,  1.16it/s]"
     ]
    },
    {
     "name": "stdout",
     "output_type": "stream",
     "text": [
      "******************************\n",
      "INSERTING DATA INTO SQLITE\n",
      "INSERTED COMMENTS\n",
      "********** TOPIC: i3tots********** COMPLETE: 5.0 % ****\n",
      "******************************\n",
      "INSERTING DATA INTO SQLITE\n",
      "INSERTED COMMENTS\n",
      "********** TOPIC: i3lvmk********** COMPLETE: 6.0 % ****\n"
     ]
    },
    {
     "name": "stderr",
     "output_type": "stream",
     "text": [
      "\r",
      "  6%|▌         | 6/100 [00:04<01:06,  1.42it/s]"
     ]
    },
    {
     "name": "stdout",
     "output_type": "stream",
     "text": [
      "******************************\n",
      "INSERTING DATA INTO SQLITE\n",
      "INSERTED COMMENTS\n",
      "********** TOPIC: i3enx8********** COMPLETE: 7.000000000000001 % ****\n"
     ]
    },
    {
     "name": "stderr",
     "output_type": "stream",
     "text": [
      "\r",
      "  7%|▋         | 7/100 [00:05<00:59,  1.56it/s]"
     ]
    },
    {
     "name": "stdout",
     "output_type": "stream",
     "text": [
      "******************************\n",
      "INSERTING DATA INTO SQLITE\n",
      "INSERTED COMMENTS\n",
      "********** TOPIC: i3v1cq********** COMPLETE: 8.0 % ****\n"
     ]
    },
    {
     "name": "stderr",
     "output_type": "stream",
     "text": [
      "  9%|▉         | 9/100 [00:05<00:37,  2.42it/s]"
     ]
    },
    {
     "name": "stdout",
     "output_type": "stream",
     "text": [
      "******************************\n",
      "INSERTING DATA INTO SQLITE\n",
      "INSERTED COMMENTS\n",
      "********** TOPIC: i3uv29********** COMPLETE: 9.0 % ****\n",
      "******************************\n",
      "INSERTING DATA INTO SQLITE\n",
      "INSERTED COMMENTS\n",
      "********** TOPIC: i3zqbn********** COMPLETE: 10.0 % ****\n"
     ]
    },
    {
     "name": "stderr",
     "output_type": "stream",
     "text": [
      " 11%|█         | 11/100 [00:06<00:26,  3.33it/s]"
     ]
    },
    {
     "name": "stdout",
     "output_type": "stream",
     "text": [
      "******************************\n",
      "INSERTING DATA INTO SQLITE\n",
      "INSERTED COMMENTS\n",
      "********** TOPIC: i3zb6s********** COMPLETE: 11.0 % ****\n",
      "******************************\n",
      "INSERTING DATA INTO SQLITE\n",
      "INSERTED COMMENTS\n",
      "********** TOPIC: i3z8s8********** COMPLETE: 12.0 % ****\n"
     ]
    },
    {
     "name": "stderr",
     "output_type": "stream",
     "text": [
      " 13%|█▎        | 13/100 [00:06<00:22,  3.94it/s]"
     ]
    },
    {
     "name": "stdout",
     "output_type": "stream",
     "text": [
      "******************************\n",
      "INSERTING DATA INTO SQLITE\n",
      "INSERTED COMMENTS\n",
      "********** TOPIC: i3z0no********** COMPLETE: 13.0 % ****\n",
      "******************************\n",
      "INSERTING DATA INTO SQLITE\n",
      "INSERTED COMMENTS\n",
      "********** TOPIC: i3q6x5********** COMPLETE: 14.000000000000002 % ****\n"
     ]
    },
    {
     "name": "stderr",
     "output_type": "stream",
     "text": [
      "\r",
      " 14%|█▍        | 14/100 [00:06<00:20,  4.23it/s]"
     ]
    },
    {
     "name": "stdout",
     "output_type": "stream",
     "text": [
      "******************************\n",
      "INSERTING DATA INTO SQLITE\n",
      "INSERTED COMMENTS\n",
      "********** TOPIC: i3wn32********** COMPLETE: 15.0 % ****\n"
     ]
    },
    {
     "name": "stderr",
     "output_type": "stream",
     "text": [
      "\r",
      " 15%|█▌        | 15/100 [00:06<00:19,  4.39it/s]"
     ]
    },
    {
     "name": "stdout",
     "output_type": "stream",
     "text": [
      "******************************\n",
      "INSERTING DATA INTO SQLITE\n",
      "INSERTED COMMENTS\n",
      "********** TOPIC: i3suz6********** COMPLETE: 16.0 % ****\n"
     ]
    },
    {
     "name": "stderr",
     "output_type": "stream",
     "text": [
      " 17%|█▋        | 17/100 [00:07<00:19,  4.21it/s]"
     ]
    },
    {
     "name": "stdout",
     "output_type": "stream",
     "text": [
      "******************************\n",
      "INSERTING DATA INTO SQLITE\n",
      "INSERTED COMMENTS\n",
      "********** TOPIC: i3ss3v********** COMPLETE: 17.0 % ****\n",
      "******************************\n",
      "INSERTING DATA INTO SQLITE\n",
      "INSERTED COMMENTS\n",
      "********** TOPIC: i3vhll********** COMPLETE: 18.0 % ****\n"
     ]
    },
    {
     "name": "stderr",
     "output_type": "stream",
     "text": [
      "\r",
      " 18%|█▊        | 18/100 [00:07<00:17,  4.58it/s]"
     ]
    },
    {
     "name": "stdout",
     "output_type": "stream",
     "text": [
      "******************************\n",
      "INSERTING DATA INTO SQLITE\n",
      "INSERTED COMMENTS\n",
      "********** TOPIC: i3rbbh********** COMPLETE: 19.0 % ****\n",
      "******************************\n",
      "INSERTING DATA INTO SQLITE\n"
     ]
    },
    {
     "name": "stderr",
     "output_type": "stream",
     "text": [
      "\r",
      " 19%|█▉        | 19/100 [00:07<00:17,  4.67it/s]"
     ]
    },
    {
     "name": "stdout",
     "output_type": "stream",
     "text": [
      "INSERTED COMMENTS\n",
      "********** TOPIC: i30dz3********** COMPLETE: 20.0 % ****\n"
     ]
    },
    {
     "name": "stderr",
     "output_type": "stream",
     "text": [
      " 21%|██        | 21/100 [00:08<00:25,  3.07it/s]"
     ]
    },
    {
     "name": "stdout",
     "output_type": "stream",
     "text": [
      "******************************\n",
      "INSERTING DATA INTO SQLITE\n",
      "INSERTED COMMENTS\n",
      "********** TOPIC: i3ook6********** COMPLETE: 21.0 % ****\n",
      "******************************\n",
      "INSERTING DATA INTO SQLITE\n",
      "INSERTED COMMENTS\n",
      "********** TOPIC: i3oeih********** COMPLETE: 22.0 % ****\n"
     ]
    },
    {
     "name": "stderr",
     "output_type": "stream",
     "text": [
      " 23%|██▎       | 23/100 [00:09<00:20,  3.84it/s]"
     ]
    },
    {
     "name": "stdout",
     "output_type": "stream",
     "text": [
      "******************************\n",
      "INSERTING DATA INTO SQLITE\n",
      "INSERTED COMMENTS\n",
      "********** TOPIC: i364rn********** COMPLETE: 23.0 % ****\n",
      "******************************\n",
      "INSERTING DATA INTO SQLITE\n",
      "INSERTED COMMENTS\n",
      "********** TOPIC: i3li0l********** COMPLETE: 24.0 % ****\n"
     ]
    },
    {
     "name": "stderr",
     "output_type": "stream",
     "text": [
      "\r",
      " 24%|██▍       | 24/100 [00:09<00:18,  4.22it/s]"
     ]
    },
    {
     "name": "stdout",
     "output_type": "stream",
     "text": [
      "******************************\n",
      "INSERTING DATA INTO SQLITE\n",
      "INSERTED COMMENTS\n",
      "********** TOPIC: i3fyva********** COMPLETE: 25.0 % ****\n",
      "******************************\n",
      "INSERTING DATA INTO SQLITE\n"
     ]
    },
    {
     "name": "stderr",
     "output_type": "stream",
     "text": [
      "\r",
      " 25%|██▌       | 25/100 [00:09<00:16,  4.41it/s]"
     ]
    },
    {
     "name": "stdout",
     "output_type": "stream",
     "text": [
      "INSERTED COMMENTS\n",
      "********** TOPIC: i3b9hv********** COMPLETE: 26.0 % ****\n"
     ]
    },
    {
     "name": "stderr",
     "output_type": "stream",
     "text": [
      "\r",
      " 26%|██▌       | 26/100 [00:09<00:17,  4.31it/s]"
     ]
    },
    {
     "name": "stdout",
     "output_type": "stream",
     "text": [
      "******************************\n",
      "INSERTING DATA INTO SQLITE\n",
      "INSERTED COMMENTS\n",
      "********** TOPIC: i2jogq********** COMPLETE: 27.0 % ****\n"
     ]
    },
    {
     "name": "stderr",
     "output_type": "stream",
     "text": [
      "\r",
      " 27%|██▋       | 27/100 [00:10<00:37,  1.96it/s]"
     ]
    },
    {
     "name": "stdout",
     "output_type": "stream",
     "text": [
      "******************************\n",
      "INSERTING DATA INTO SQLITE\n",
      "INSERTED COMMENTS\n",
      "********** TOPIC: i3du7d********** COMPLETE: 28.000000000000004 % ****\n"
     ]
    },
    {
     "name": "stderr",
     "output_type": "stream",
     "text": [
      "\r",
      " 28%|██▊       | 28/100 [00:11<00:30,  2.36it/s]"
     ]
    },
    {
     "name": "stdout",
     "output_type": "stream",
     "text": [
      "******************************\n",
      "INSERTING DATA INTO SQLITE\n",
      "INSERTED COMMENTS\n",
      "********** TOPIC: i34a39********** COMPLETE: 28.999999999999996 % ****\n"
     ]
    },
    {
     "name": "stderr",
     "output_type": "stream",
     "text": [
      "\r",
      " 29%|██▉       | 29/100 [00:11<00:25,  2.78it/s]"
     ]
    },
    {
     "name": "stdout",
     "output_type": "stream",
     "text": [
      "******************************\n",
      "INSERTING DATA INTO SQLITE\n",
      "INSERTED COMMENTS\n",
      "********** TOPIC: i36fjl********** COMPLETE: 30.0 % ****\n"
     ]
    },
    {
     "name": "stderr",
     "output_type": "stream",
     "text": [
      "\r",
      " 30%|███       | 30/100 [00:11<00:22,  3.06it/s]"
     ]
    },
    {
     "name": "stdout",
     "output_type": "stream",
     "text": [
      "******************************\n",
      "INSERTING DATA INTO SQLITE\n",
      "INSERTED COMMENTS\n",
      "********** TOPIC: i38j9c********** COMPLETE: 31.0 % ****\n"
     ]
    },
    {
     "name": "stderr",
     "output_type": "stream",
     "text": [
      "\r",
      " 31%|███       | 31/100 [00:11<00:20,  3.38it/s]"
     ]
    },
    {
     "name": "stdout",
     "output_type": "stream",
     "text": [
      "******************************\n",
      "INSERTING DATA INTO SQLITE\n",
      "INSERTED COMMENTS\n",
      "********** TOPIC: i32x0k********** COMPLETE: 32.0 % ****\n"
     ]
    },
    {
     "name": "stderr",
     "output_type": "stream",
     "text": [
      "\r",
      " 32%|███▏      | 32/100 [00:12<00:18,  3.69it/s]"
     ]
    },
    {
     "name": "stdout",
     "output_type": "stream",
     "text": [
      "******************************\n",
      "INSERTING DATA INTO SQLITE\n",
      "INSERTED COMMENTS\n",
      "********** TOPIC: i34t04********** COMPLETE: 33.0 % ****\n"
     ]
    },
    {
     "name": "stderr",
     "output_type": "stream",
     "text": [
      "\r",
      " 33%|███▎      | 33/100 [00:12<00:17,  3.90it/s]"
     ]
    },
    {
     "name": "stdout",
     "output_type": "stream",
     "text": [
      "******************************\n",
      "INSERTING DATA INTO SQLITE\n",
      "INSERTED COMMENTS\n",
      "********** TOPIC: i31k7t********** COMPLETE: 34.0 % ****\n",
      "******************************\n",
      "INSERTING DATA INTO SQLITE\n",
      "INSERTED COMMENTS\n"
     ]
    },
    {
     "name": "stderr",
     "output_type": "stream",
     "text": [
      "\r",
      " 34%|███▍      | 34/100 [00:12<00:15,  4.17it/s]"
     ]
    },
    {
     "name": "stdout",
     "output_type": "stream",
     "text": [
      "********** TOPIC: i2rnap********** COMPLETE: 35.0 % ****\n"
     ]
    },
    {
     "name": "stderr",
     "output_type": "stream",
     "text": [
      "\r",
      " 35%|███▌      | 35/100 [00:13<00:21,  3.09it/s]"
     ]
    },
    {
     "name": "stdout",
     "output_type": "stream",
     "text": [
      "******************************\n",
      "INSERTING DATA INTO SQLITE\n",
      "INSERTED COMMENTS\n",
      "********** TOPIC: i2a66c********** COMPLETE: 36.0 % ****\n"
     ]
    },
    {
     "name": "stderr",
     "output_type": "stream",
     "text": [
      "\r",
      " 36%|███▌      | 36/100 [00:13<00:20,  3.12it/s]"
     ]
    },
    {
     "name": "stdout",
     "output_type": "stream",
     "text": [
      "******************************\n",
      "INSERTING DATA INTO SQLITE\n",
      "INSERTED COMMENTS\n",
      "********** TOPIC: i2xo72********** COMPLETE: 37.0 % ****\n"
     ]
    },
    {
     "name": "stderr",
     "output_type": "stream",
     "text": [
      "\r",
      " 37%|███▋      | 37/100 [00:13<00:18,  3.32it/s]"
     ]
    },
    {
     "name": "stdout",
     "output_type": "stream",
     "text": [
      "******************************\n",
      "INSERTING DATA INTO SQLITE\n",
      "INSERTED COMMENTS\n",
      "********** TOPIC: i2hsbi********** COMPLETE: 38.0 % ****\n"
     ]
    },
    {
     "name": "stderr",
     "output_type": "stream",
     "text": [
      "\r",
      " 38%|███▊      | 38/100 [00:13<00:18,  3.30it/s]"
     ]
    },
    {
     "name": "stdout",
     "output_type": "stream",
     "text": [
      "******************************\n",
      "INSERTING DATA INTO SQLITE\n",
      "INSERTED COMMENTS\n",
      "********** TOPIC: i2hxk1********** COMPLETE: 39.0 % ****\n"
     ]
    },
    {
     "name": "stderr",
     "output_type": "stream",
     "text": [
      "\r",
      " 39%|███▉      | 39/100 [00:14<00:17,  3.52it/s]"
     ]
    },
    {
     "name": "stdout",
     "output_type": "stream",
     "text": [
      "******************************\n",
      "INSERTING DATA INTO SQLITE\n",
      "INSERTED COMMENTS\n",
      "********** TOPIC: i2k25n********** COMPLETE: 40.0 % ****\n"
     ]
    },
    {
     "name": "stderr",
     "output_type": "stream",
     "text": [
      "\r",
      " 40%|████      | 40/100 [00:14<00:16,  3.58it/s]"
     ]
    },
    {
     "name": "stdout",
     "output_type": "stream",
     "text": [
      "******************************\n",
      "INSERTING DATA INTO SQLITE\n",
      "INSERTED COMMENTS\n",
      "********** TOPIC: i2rr13********** COMPLETE: 41.0 % ****\n"
     ]
    },
    {
     "name": "stderr",
     "output_type": "stream",
     "text": [
      "\r",
      " 41%|████      | 41/100 [00:14<00:16,  3.68it/s]"
     ]
    },
    {
     "name": "stdout",
     "output_type": "stream",
     "text": [
      "******************************\n",
      "INSERTING DATA INTO SQLITE\n",
      "INSERTED COMMENTS\n",
      "********** TOPIC: i1z83r********** COMPLETE: 42.0 % ****\n"
     ]
    },
    {
     "name": "stderr",
     "output_type": "stream",
     "text": [
      "\r",
      " 42%|████▏     | 42/100 [00:15<00:21,  2.76it/s]"
     ]
    },
    {
     "name": "stdout",
     "output_type": "stream",
     "text": [
      "******************************\n",
      "INSERTING DATA INTO SQLITE\n",
      "INSERTED COMMENTS\n",
      "********** TOPIC: i2qm8z********** COMPLETE: 43.0 % ****\n"
     ]
    },
    {
     "name": "stderr",
     "output_type": "stream",
     "text": [
      "\r",
      " 43%|████▎     | 43/100 [00:15<00:19,  2.91it/s]"
     ]
    },
    {
     "name": "stdout",
     "output_type": "stream",
     "text": [
      "******************************\n",
      "INSERTING DATA INTO SQLITE\n",
      "INSERTED COMMENTS\n",
      "********** TOPIC: i2if94********** COMPLETE: 44.0 % ****\n"
     ]
    },
    {
     "name": "stderr",
     "output_type": "stream",
     "text": [
      "\r",
      " 44%|████▍     | 44/100 [00:15<00:17,  3.12it/s]"
     ]
    },
    {
     "name": "stdout",
     "output_type": "stream",
     "text": [
      "******************************\n",
      "INSERTING DATA INTO SQLITE\n",
      "INSERTED COMMENTS\n",
      "********** TOPIC: i2pmxo********** COMPLETE: 45.0 % ****\n"
     ]
    },
    {
     "name": "stderr",
     "output_type": "stream",
     "text": [
      "\r",
      " 45%|████▌     | 45/100 [00:16<00:15,  3.45it/s]"
     ]
    },
    {
     "name": "stdout",
     "output_type": "stream",
     "text": [
      "******************************\n",
      "INSERTING DATA INTO SQLITE\n",
      "INSERTED COMMENTS\n",
      "********** TOPIC: i2aqnf********** COMPLETE: 46.0 % ****\n"
     ]
    },
    {
     "name": "stderr",
     "output_type": "stream",
     "text": [
      "\r",
      " 46%|████▌     | 46/100 [00:16<00:14,  3.69it/s]"
     ]
    },
    {
     "name": "stdout",
     "output_type": "stream",
     "text": [
      "******************************\n",
      "INSERTING DATA INTO SQLITE\n",
      "INSERTED COMMENTS\n",
      "********** TOPIC: i2gu8u********** COMPLETE: 47.0 % ****\n"
     ]
    },
    {
     "name": "stderr",
     "output_type": "stream",
     "text": [
      "\r",
      " 47%|████▋     | 47/100 [00:16<00:15,  3.53it/s]"
     ]
    },
    {
     "name": "stdout",
     "output_type": "stream",
     "text": [
      "******************************\n",
      "INSERTING DATA INTO SQLITE\n",
      "INSERTED COMMENTS\n",
      "********** TOPIC: i2ipwr********** COMPLETE: 48.0 % ****\n"
     ]
    },
    {
     "name": "stderr",
     "output_type": "stream",
     "text": [
      "\r",
      " 48%|████▊     | 48/100 [00:16<00:15,  3.44it/s]"
     ]
    },
    {
     "name": "stdout",
     "output_type": "stream",
     "text": [
      "******************************\n",
      "INSERTING DATA INTO SQLITE\n",
      "INSERTED COMMENTS\n",
      "********** TOPIC: i2gg9l********** COMPLETE: 49.0 % ****\n"
     ]
    },
    {
     "name": "stderr",
     "output_type": "stream",
     "text": [
      "\r",
      " 49%|████▉     | 49/100 [00:17<00:13,  3.72it/s]"
     ]
    },
    {
     "name": "stdout",
     "output_type": "stream",
     "text": [
      "******************************\n",
      "INSERTING DATA INTO SQLITE\n",
      "INSERTED COMMENTS\n",
      "********** TOPIC: i2dad3********** COMPLETE: 50.0 % ****\n"
     ]
    },
    {
     "name": "stderr",
     "output_type": "stream",
     "text": [
      "\r",
      " 50%|█████     | 50/100 [00:17<00:12,  3.96it/s]"
     ]
    },
    {
     "name": "stdout",
     "output_type": "stream",
     "text": [
      "******************************\n",
      "INSERTING DATA INTO SQLITE\n",
      "INSERTED COMMENTS\n",
      "********** TOPIC: i200qh********** COMPLETE: 51.0 % ****\n"
     ]
    },
    {
     "name": "stderr",
     "output_type": "stream",
     "text": [
      "\r",
      " 51%|█████     | 51/100 [00:17<00:12,  3.82it/s]"
     ]
    },
    {
     "name": "stdout",
     "output_type": "stream",
     "text": [
      "******************************\n",
      "INSERTING DATA INTO SQLITE\n",
      "INSERTED COMMENTS\n",
      "********** TOPIC: i1xj79********** COMPLETE: 52.0 % ****\n",
      "******************************\n",
      "INSERTING DATA INTO SQLITE\n",
      "INSERTED COMMENTS\n"
     ]
    },
    {
     "name": "stderr",
     "output_type": "stream",
     "text": [
      "\r",
      " 52%|█████▏    | 52/100 [00:17<00:11,  4.13it/s]"
     ]
    },
    {
     "name": "stdout",
     "output_type": "stream",
     "text": [
      "********** TOPIC: i22zqq********** COMPLETE: 53.0 % ****\n"
     ]
    },
    {
     "name": "stderr",
     "output_type": "stream",
     "text": [
      "\r",
      " 53%|█████▎    | 53/100 [00:18<00:12,  3.79it/s]"
     ]
    },
    {
     "name": "stdout",
     "output_type": "stream",
     "text": [
      "******************************\n",
      "INSERTING DATA INTO SQLITE\n",
      "INSERTED COMMENTS\n",
      "********** TOPIC: i26twe********** COMPLETE: 54.0 % ****\n"
     ]
    },
    {
     "name": "stderr",
     "output_type": "stream",
     "text": [
      "\r",
      " 54%|█████▍    | 54/100 [00:18<00:11,  4.01it/s]"
     ]
    },
    {
     "name": "stdout",
     "output_type": "stream",
     "text": [
      "******************************\n",
      "INSERTING DATA INTO SQLITE\n",
      "INSERTED COMMENTS\n",
      "********** TOPIC: i1sn59********** COMPLETE: 55.00000000000001 % ****\n"
     ]
    },
    {
     "name": "stderr",
     "output_type": "stream",
     "text": [
      " 56%|█████▌    | 56/100 [00:18<00:09,  4.50it/s]"
     ]
    },
    {
     "name": "stdout",
     "output_type": "stream",
     "text": [
      "******************************\n",
      "INSERTING DATA INTO SQLITE\n",
      "INSERTED COMMENTS\n",
      "********** TOPIC: i285sh********** COMPLETE: 56.00000000000001 % ****\n",
      "******************************\n",
      "INSERTING DATA INTO SQLITE\n",
      "INSERTED COMMENTS\n",
      "********** TOPIC: i20lp4********** COMPLETE: 56.99999999999999 % ****\n"
     ]
    },
    {
     "name": "stderr",
     "output_type": "stream",
     "text": [
      "\r",
      " 57%|█████▋    | 57/100 [00:18<00:09,  4.62it/s]"
     ]
    },
    {
     "name": "stdout",
     "output_type": "stream",
     "text": [
      "******************************\n",
      "INSERTING DATA INTO SQLITE\n",
      "INSERTED COMMENTS\n",
      "********** TOPIC: i1yp9r********** COMPLETE: 57.99999999999999 % ****\n"
     ]
    },
    {
     "name": "stderr",
     "output_type": "stream",
     "text": [
      "\r",
      " 58%|█████▊    | 58/100 [00:19<00:08,  4.70it/s]"
     ]
    },
    {
     "name": "stdout",
     "output_type": "stream",
     "text": [
      "******************************\n",
      "INSERTING DATA INTO SQLITE\n",
      "INSERTED COMMENTS\n",
      "********** TOPIC: i1wlz7********** COMPLETE: 59.0 % ****\n"
     ]
    },
    {
     "name": "stderr",
     "output_type": "stream",
     "text": [
      "\r",
      " 59%|█████▉    | 59/100 [00:19<00:09,  4.37it/s]"
     ]
    },
    {
     "name": "stdout",
     "output_type": "stream",
     "text": [
      "******************************\n",
      "INSERTING DATA INTO SQLITE\n",
      "INSERTED COMMENTS\n",
      "********** TOPIC: i1yob6********** COMPLETE: 60.0 % ****\n"
     ]
    },
    {
     "name": "stderr",
     "output_type": "stream",
     "text": [
      "\r",
      " 60%|██████    | 60/100 [00:19<00:08,  4.51it/s]"
     ]
    },
    {
     "name": "stdout",
     "output_type": "stream",
     "text": [
      "******************************\n",
      "INSERTING DATA INTO SQLITE\n",
      "INSERTED COMMENTS\n",
      "********** TOPIC: i1ammb********** COMPLETE: 61.0 % ****\n"
     ]
    },
    {
     "name": "stderr",
     "output_type": "stream",
     "text": [
      "\r",
      " 61%|██████    | 61/100 [00:20<00:12,  3.08it/s]"
     ]
    },
    {
     "name": "stdout",
     "output_type": "stream",
     "text": [
      "******************************\n",
      "INSERTING DATA INTO SQLITE\n",
      "INSERTED COMMENTS\n",
      "********** TOPIC: i1yfn6********** COMPLETE: 62.0 % ****\n"
     ]
    },
    {
     "name": "stderr",
     "output_type": "stream",
     "text": [
      " 63%|██████▎   | 63/100 [00:20<00:10,  3.58it/s]"
     ]
    },
    {
     "name": "stdout",
     "output_type": "stream",
     "text": [
      "******************************\n",
      "INSERTING DATA INTO SQLITE\n",
      "INSERTED COMMENTS\n",
      "********** TOPIC: i1yflh********** COMPLETE: 63.0 % ****\n",
      "******************************\n",
      "INSERTING DATA INTO SQLITE\n",
      "INSERTED COMMENTS\n",
      "********** TOPIC: i1tkre********** COMPLETE: 64.0 % ****\n"
     ]
    },
    {
     "name": "stderr",
     "output_type": "stream",
     "text": [
      "\r",
      " 64%|██████▍   | 64/100 [00:20<00:10,  3.41it/s]"
     ]
    },
    {
     "name": "stdout",
     "output_type": "stream",
     "text": [
      "******************************\n",
      "INSERTING DATA INTO SQLITE\n",
      "INSERTED COMMENTS\n",
      "********** TOPIC: i1qa8b********** COMPLETE: 65.0 % ****\n"
     ]
    },
    {
     "name": "stderr",
     "output_type": "stream",
     "text": [
      "\r",
      " 65%|██████▌   | 65/100 [00:21<00:09,  3.62it/s]"
     ]
    },
    {
     "name": "stdout",
     "output_type": "stream",
     "text": [
      "******************************\n",
      "INSERTING DATA INTO SQLITE\n",
      "INSERTED COMMENTS\n",
      "********** TOPIC: i1turv********** COMPLETE: 66.0 % ****\n"
     ]
    },
    {
     "name": "stderr",
     "output_type": "stream",
     "text": [
      "\r",
      " 66%|██████▌   | 66/100 [00:21<00:10,  3.28it/s]"
     ]
    },
    {
     "name": "stdout",
     "output_type": "stream",
     "text": [
      "******************************\n",
      "INSERTING DATA INTO SQLITE\n",
      "INSERTED COMMENTS\n",
      "********** TOPIC: i1gi1b********** COMPLETE: 67.0 % ****\n"
     ]
    },
    {
     "name": "stderr",
     "output_type": "stream",
     "text": [
      "\r",
      " 67%|██████▋   | 67/100 [00:22<00:12,  2.61it/s]"
     ]
    },
    {
     "name": "stdout",
     "output_type": "stream",
     "text": [
      "******************************\n",
      "INSERTING DATA INTO SQLITE\n",
      "INSERTED COMMENTS\n",
      "********** TOPIC: i1az1r********** COMPLETE: 68.0 % ****\n"
     ]
    },
    {
     "name": "stderr",
     "output_type": "stream",
     "text": [
      "\r",
      " 68%|██████▊   | 68/100 [00:22<00:10,  2.96it/s]"
     ]
    },
    {
     "name": "stdout",
     "output_type": "stream",
     "text": [
      "******************************\n",
      "INSERTING DATA INTO SQLITE\n",
      "INSERTED COMMENTS\n",
      "********** TOPIC: i0y3po********** COMPLETE: 69.0 % ****\n"
     ]
    },
    {
     "name": "stderr",
     "output_type": "stream",
     "text": [
      "\r",
      " 69%|██████▉   | 69/100 [00:23<00:14,  2.20it/s]"
     ]
    },
    {
     "name": "stdout",
     "output_type": "stream",
     "text": [
      "******************************\n",
      "INSERTING DATA INTO SQLITE\n",
      "INSERTED COMMENTS\n",
      "********** TOPIC: i1g60q********** COMPLETE: 70.0 % ****\n"
     ]
    },
    {
     "name": "stderr",
     "output_type": "stream",
     "text": [
      "\r",
      " 70%|███████   | 70/100 [00:23<00:12,  2.42it/s]"
     ]
    },
    {
     "name": "stdout",
     "output_type": "stream",
     "text": [
      "******************************\n",
      "INSERTING DATA INTO SQLITE\n",
      "INSERTED COMMENTS\n",
      "********** TOPIC: i101x6********** COMPLETE: 71.0 % ****\n"
     ]
    },
    {
     "name": "stderr",
     "output_type": "stream",
     "text": [
      "\r",
      " 71%|███████   | 71/100 [00:23<00:10,  2.82it/s]"
     ]
    },
    {
     "name": "stdout",
     "output_type": "stream",
     "text": [
      "******************************\n",
      "INSERTING DATA INTO SQLITE\n",
      "INSERTED COMMENTS\n",
      "********** TOPIC: i0jw4q********** COMPLETE: 72.0 % ****\n"
     ]
    },
    {
     "name": "stderr",
     "output_type": "stream",
     "text": [
      "\r",
      " 72%|███████▏  | 72/100 [00:24<00:13,  2.02it/s]"
     ]
    },
    {
     "name": "stdout",
     "output_type": "stream",
     "text": [
      "******************************\n",
      "INSERTING DATA INTO SQLITE\n",
      "INSERTED COMMENTS\n",
      "********** TOPIC: i0yxsf********** COMPLETE: 73.0 % ****\n"
     ]
    },
    {
     "name": "stderr",
     "output_type": "stream",
     "text": [
      "\r",
      " 73%|███████▎  | 73/100 [00:24<00:11,  2.30it/s]"
     ]
    },
    {
     "name": "stdout",
     "output_type": "stream",
     "text": [
      "******************************\n",
      "INSERTING DATA INTO SQLITE\n",
      "INSERTED COMMENTS\n",
      "********** TOPIC: i0mxil********** COMPLETE: 74.0 % ****\n"
     ]
    },
    {
     "name": "stderr",
     "output_type": "stream",
     "text": [
      "\r",
      " 74%|███████▍  | 74/100 [00:25<00:10,  2.51it/s]"
     ]
    },
    {
     "name": "stdout",
     "output_type": "stream",
     "text": [
      "******************************\n",
      "INSERTING DATA INTO SQLITE\n",
      "INSERTED COMMENTS\n",
      "********** TOPIC: i0qd37********** COMPLETE: 75.0 % ****\n"
     ]
    },
    {
     "name": "stderr",
     "output_type": "stream",
     "text": [
      "\r",
      " 75%|███████▌  | 75/100 [00:25<00:09,  2.71it/s]"
     ]
    },
    {
     "name": "stdout",
     "output_type": "stream",
     "text": [
      "******************************\n",
      "INSERTING DATA INTO SQLITE\n",
      "INSERTED COMMENTS\n",
      "********** TOPIC: i0q9sq********** COMPLETE: 76.0 % ****\n"
     ]
    },
    {
     "name": "stderr",
     "output_type": "stream",
     "text": [
      "\r",
      " 76%|███████▌  | 76/100 [00:25<00:08,  2.84it/s]"
     ]
    },
    {
     "name": "stdout",
     "output_type": "stream",
     "text": [
      "******************************\n",
      "INSERTING DATA INTO SQLITE\n",
      "INSERTED COMMENTS\n",
      "********** TOPIC: i0sbp6********** COMPLETE: 77.0 % ****\n"
     ]
    },
    {
     "name": "stderr",
     "output_type": "stream",
     "text": [
      "\r",
      " 77%|███████▋  | 77/100 [00:25<00:07,  3.01it/s]"
     ]
    },
    {
     "name": "stdout",
     "output_type": "stream",
     "text": [
      "******************************\n",
      "INSERTING DATA INTO SQLITE\n",
      "INSERTED COMMENTS\n",
      "********** TOPIC: i0m3md********** COMPLETE: 78.0 % ****\n"
     ]
    },
    {
     "name": "stderr",
     "output_type": "stream",
     "text": [
      "\r",
      " 78%|███████▊  | 78/100 [00:26<00:07,  3.03it/s]"
     ]
    },
    {
     "name": "stdout",
     "output_type": "stream",
     "text": [
      "******************************\n",
      "INSERTING DATA INTO SQLITE\n",
      "INSERTED COMMENTS\n",
      "********** TOPIC: hzq8s8********** COMPLETE: 79.0 % ****\n"
     ]
    },
    {
     "name": "stderr",
     "output_type": "stream",
     "text": [
      "\r",
      " 79%|███████▉  | 79/100 [00:27<00:10,  2.08it/s]"
     ]
    },
    {
     "name": "stdout",
     "output_type": "stream",
     "text": [
      "******************************\n",
      "INSERTING DATA INTO SQLITE\n",
      "INSERTED COMMENTS\n",
      "********** TOPIC: i04cpf********** COMPLETE: 80.0 % ****\n"
     ]
    },
    {
     "name": "stderr",
     "output_type": "stream",
     "text": [
      "\r",
      " 80%|████████  | 80/100 [00:27<00:08,  2.35it/s]"
     ]
    },
    {
     "name": "stdout",
     "output_type": "stream",
     "text": [
      "******************************\n",
      "INSERTING DATA INTO SQLITE\n",
      "INSERTED COMMENTS\n",
      "********** TOPIC: i0mcx0********** COMPLETE: 81.0 % ****\n"
     ]
    },
    {
     "name": "stderr",
     "output_type": "stream",
     "text": [
      " 82%|████████▏ | 82/100 [00:27<00:05,  3.10it/s]"
     ]
    },
    {
     "name": "stdout",
     "output_type": "stream",
     "text": [
      "******************************\n",
      "INSERTING DATA INTO SQLITE\n",
      "INSERTED COMMENTS\n",
      "********** TOPIC: i0d1kb********** COMPLETE: 82.0 % ****\n",
      "******************************\n",
      "INSERTING DATA INTO SQLITE\n",
      "INSERTED COMMENTS\n",
      "********** TOPIC: i0mgil********** COMPLETE: 83.0 % ****\n"
     ]
    },
    {
     "name": "stderr",
     "output_type": "stream",
     "text": [
      "\r",
      " 83%|████████▎ | 83/100 [00:28<00:04,  3.51it/s]"
     ]
    },
    {
     "name": "stdout",
     "output_type": "stream",
     "text": [
      "******************************\n",
      "INSERTING DATA INTO SQLITE\n",
      "INSERTED COMMENTS\n",
      "********** TOPIC: i01t6p********** COMPLETE: 84.0 % ****\n"
     ]
    },
    {
     "name": "stderr",
     "output_type": "stream",
     "text": [
      "\r",
      " 84%|████████▍ | 84/100 [00:28<00:04,  3.65it/s]"
     ]
    },
    {
     "name": "stdout",
     "output_type": "stream",
     "text": [
      "******************************\n",
      "INSERTING DATA INTO SQLITE\n",
      "INSERTED COMMENTS\n",
      "********** TOPIC: i02h44********** COMPLETE: 85.0 % ****\n"
     ]
    },
    {
     "name": "stderr",
     "output_type": "stream",
     "text": [
      "\r",
      " 85%|████████▌ | 85/100 [00:28<00:04,  3.66it/s]"
     ]
    },
    {
     "name": "stdout",
     "output_type": "stream",
     "text": [
      "******************************\n",
      "INSERTING DATA INTO SQLITE\n",
      "INSERTED COMMENTS\n",
      "********** TOPIC: hzxzu6********** COMPLETE: 86.0 % ****\n"
     ]
    },
    {
     "name": "stderr",
     "output_type": "stream",
     "text": [
      "\r",
      " 86%|████████▌ | 86/100 [00:29<00:04,  3.10it/s]"
     ]
    },
    {
     "name": "stdout",
     "output_type": "stream",
     "text": [
      "******************************\n",
      "INSERTING DATA INTO SQLITE\n",
      "INSERTED COMMENTS\n",
      "********** TOPIC: i02m35********** COMPLETE: 87.0 % ****\n"
     ]
    },
    {
     "name": "stderr",
     "output_type": "stream",
     "text": [
      "\r",
      " 87%|████████▋ | 87/100 [00:29<00:03,  3.29it/s]"
     ]
    },
    {
     "name": "stdout",
     "output_type": "stream",
     "text": [
      "******************************\n",
      "INSERTING DATA INTO SQLITE\n",
      "INSERTED COMMENTS\n",
      "********** TOPIC: i02tk6********** COMPLETE: 88.0 % ****\n",
      "******************************\n",
      "INSERTING DATA INTO SQLITE\n"
     ]
    },
    {
     "name": "stderr",
     "output_type": "stream",
     "text": [
      "\r",
      " 88%|████████▊ | 88/100 [00:29<00:03,  3.66it/s]"
     ]
    },
    {
     "name": "stdout",
     "output_type": "stream",
     "text": [
      "INSERTED COMMENTS\n",
      "********** TOPIC: hzk8cs********** COMPLETE: 89.0 % ****\n"
     ]
    },
    {
     "name": "stderr",
     "output_type": "stream",
     "text": [
      "\r",
      " 89%|████████▉ | 89/100 [00:30<00:04,  2.53it/s]"
     ]
    },
    {
     "name": "stdout",
     "output_type": "stream",
     "text": [
      "******************************\n",
      "INSERTING DATA INTO SQLITE\n",
      "INSERTED COMMENTS\n",
      "********** TOPIC: hzqc27********** COMPLETE: 90.0 % ****\n"
     ]
    },
    {
     "name": "stderr",
     "output_type": "stream",
     "text": [
      "\r",
      " 90%|█████████ | 90/100 [00:30<00:03,  2.86it/s]"
     ]
    },
    {
     "name": "stdout",
     "output_type": "stream",
     "text": [
      "******************************\n",
      "INSERTING DATA INTO SQLITE\n",
      "INSERTED COMMENTS\n",
      "********** TOPIC: hztet0********** COMPLETE: 91.0 % ****\n"
     ]
    },
    {
     "name": "stderr",
     "output_type": "stream",
     "text": [
      "\r",
      " 91%|█████████ | 91/100 [00:30<00:02,  3.15it/s]"
     ]
    },
    {
     "name": "stdout",
     "output_type": "stream",
     "text": [
      "******************************\n",
      "INSERTING DATA INTO SQLITE\n",
      "INSERTED COMMENTS\n",
      "********** TOPIC: hzb04b********** COMPLETE: 92.0 % ****\n"
     ]
    },
    {
     "name": "stderr",
     "output_type": "stream",
     "text": [
      "\r",
      " 92%|█████████▏| 92/100 [00:31<00:03,  2.41it/s]"
     ]
    },
    {
     "name": "stdout",
     "output_type": "stream",
     "text": [
      "******************************\n",
      "INSERTING DATA INTO SQLITE\n",
      "INSERTED COMMENTS\n",
      "********** TOPIC: hzz6u3********** COMPLETE: 93.0 % ****\n"
     ]
    },
    {
     "name": "stderr",
     "output_type": "stream",
     "text": [
      " 94%|█████████▍| 94/100 [00:31<00:01,  3.12it/s]"
     ]
    },
    {
     "name": "stdout",
     "output_type": "stream",
     "text": [
      "******************************\n",
      "INSERTING DATA INTO SQLITE\n",
      "INSERTED COMMENTS\n",
      "********** TOPIC: hzyuua********** COMPLETE: 94.0 % ****\n",
      "******************************\n",
      "INSERTING DATA INTO SQLITE\n",
      "INSERTED COMMENTS\n",
      "********** TOPIC: hzu4tq********** COMPLETE: 95.0 % ****\n"
     ]
    },
    {
     "name": "stderr",
     "output_type": "stream",
     "text": [
      "\r",
      " 95%|█████████▌| 95/100 [00:32<00:01,  3.09it/s]"
     ]
    },
    {
     "name": "stdout",
     "output_type": "stream",
     "text": [
      "******************************\n",
      "INSERTING DATA INTO SQLITE\n",
      "INSERTED COMMENTS\n",
      "********** TOPIC: hzowcz********** COMPLETE: 96.0 % ****\n"
     ]
    },
    {
     "name": "stderr",
     "output_type": "stream",
     "text": [
      "\r",
      " 96%|█████████▌| 96/100 [00:32<00:01,  3.26it/s]"
     ]
    },
    {
     "name": "stdout",
     "output_type": "stream",
     "text": [
      "******************************\n",
      "INSERTING DATA INTO SQLITE\n",
      "INSERTED COMMENTS\n",
      "********** TOPIC: hzdht8********** COMPLETE: 97.0 % ****\n"
     ]
    },
    {
     "name": "stderr",
     "output_type": "stream",
     "text": [
      "\r",
      " 97%|█████████▋| 97/100 [00:32<00:01,  2.87it/s]"
     ]
    },
    {
     "name": "stdout",
     "output_type": "stream",
     "text": [
      "******************************\n",
      "INSERTING DATA INTO SQLITE\n",
      "INSERTED COMMENTS\n",
      "********** TOPIC: hzp374********** COMPLETE: 98.0 % ****\n"
     ]
    },
    {
     "name": "stderr",
     "output_type": "stream",
     "text": [
      "\r",
      " 98%|█████████▊| 98/100 [00:33<00:00,  3.22it/s]"
     ]
    },
    {
     "name": "stdout",
     "output_type": "stream",
     "text": [
      "******************************\n",
      "INSERTING DATA INTO SQLITE\n",
      "INSERTED COMMENTS\n",
      "********** TOPIC: hzfjvt********** COMPLETE: 99.0 % ****\n"
     ]
    },
    {
     "name": "stderr",
     "output_type": "stream",
     "text": [
      "\r",
      " 99%|█████████▉| 99/100 [00:33<00:00,  2.27it/s]"
     ]
    },
    {
     "name": "stdout",
     "output_type": "stream",
     "text": [
      "******************************\n",
      "INSERTING DATA INTO SQLITE\n",
      "INSERTED COMMENTS\n",
      "********** TOPIC: hysmf4********** COMPLETE: 100.0 % ****\n"
     ]
    },
    {
     "name": "stderr",
     "output_type": "stream",
     "text": [
      "100%|██████████| 100/100 [00:34<00:00,  2.86it/s]\n",
      "  0%|          | 0/100 [00:00<?, ?it/s]"
     ]
    },
    {
     "name": "stdout",
     "output_type": "stream",
     "text": [
      "******************************\n",
      "INSERTING DATA INTO SQLITE\n",
      "INSERTED COMMENTS\n",
      "********** TOPIC: i3pmg3********** COMPLETE: 1.0 % ****\n"
     ]
    },
    {
     "name": "stderr",
     "output_type": "stream",
     "text": [
      "\r",
      "  1%|          | 1/100 [00:03<05:08,  3.12s/it]"
     ]
    },
    {
     "name": "stdout",
     "output_type": "stream",
     "text": [
      "******************************\n",
      "INSERTING DATA INTO SQLITE\n",
      "INSERTED COMMENTS\n",
      "********** TOPIC: i3kxe2********** COMPLETE: 2.0 % ****\n"
     ]
    },
    {
     "name": "stderr",
     "output_type": "stream",
     "text": [
      "\r",
      "  2%|▏         | 2/100 [00:03<03:47,  2.32s/it]"
     ]
    },
    {
     "name": "stdout",
     "output_type": "stream",
     "text": [
      "******************************\n",
      "INSERTING DATA INTO SQLITE\n",
      "INSERTED COMMENTS\n",
      "********** TOPIC: i37cx9********** COMPLETE: 3.0 % ****\n"
     ]
    },
    {
     "name": "stderr",
     "output_type": "stream",
     "text": [
      "\r",
      "  3%|▎         | 3/100 [00:05<03:23,  2.10s/it]"
     ]
    },
    {
     "name": "stdout",
     "output_type": "stream",
     "text": [
      "******************************\n",
      "INSERTING DATA INTO SQLITE\n",
      "INSERTED COMMENTS\n",
      "********** TOPIC: i3rawh********** COMPLETE: 4.0 % ****\n"
     ]
    },
    {
     "name": "stderr",
     "output_type": "stream",
     "text": [
      "  5%|▌         | 5/100 [00:06<01:56,  1.23s/it]"
     ]
    },
    {
     "name": "stdout",
     "output_type": "stream",
     "text": [
      "******************************\n",
      "INSERTING DATA INTO SQLITE\n",
      "INSERTED COMMENTS\n",
      "********** TOPIC: i3yape********** COMPLETE: 5.0 % ****\n",
      "******************************\n",
      "INSERTING DATA INTO SQLITE\n",
      "INSERTED COMMENTS\n",
      "********** TOPIC: i2zeri********** COMPLETE: 6.0 % ****\n"
     ]
    },
    {
     "name": "stderr",
     "output_type": "stream",
     "text": [
      "\r",
      "  6%|▌         | 6/100 [00:07<01:50,  1.17s/it]"
     ]
    },
    {
     "name": "stdout",
     "output_type": "stream",
     "text": [
      "******************************\n",
      "INSERTING DATA INTO SQLITE\n",
      "INSERTED COMMENTS\n",
      "********** TOPIC: i3sbuc********** COMPLETE: 7.000000000000001 % ****\n"
     ]
    },
    {
     "name": "stderr",
     "output_type": "stream",
     "text": [
      "\r",
      "  7%|▋         | 7/100 [00:07<01:36,  1.03s/it]"
     ]
    },
    {
     "name": "stdout",
     "output_type": "stream",
     "text": [
      "******************************\n",
      "INSERTING DATA INTO SQLITE\n",
      "INSERTED COMMENTS\n",
      "********** TOPIC: i3raxs********** COMPLETE: 8.0 % ****\n"
     ]
    },
    {
     "name": "stderr",
     "output_type": "stream",
     "text": [
      "\r",
      "  8%|▊         | 8/100 [00:08<01:25,  1.08it/s]"
     ]
    },
    {
     "name": "stdout",
     "output_type": "stream",
     "text": [
      "******************************\n",
      "INSERTING DATA INTO SQLITE\n",
      "INSERTED COMMENTS\n",
      "********** TOPIC: i3qqvv********** COMPLETE: 9.0 % ****\n"
     ]
    },
    {
     "name": "stderr",
     "output_type": "stream",
     "text": [
      "\r",
      "  9%|▉         | 9/100 [00:09<01:32,  1.02s/it]"
     ]
    },
    {
     "name": "stdout",
     "output_type": "stream",
     "text": [
      "******************************\n",
      "INSERTING DATA INTO SQLITE\n",
      "INSERTED COMMENTS\n",
      "********** TOPIC: i2ztm0********** COMPLETE: 10.0 % ****\n"
     ]
    },
    {
     "name": "stderr",
     "output_type": "stream",
     "text": [
      "\r",
      " 10%|█         | 10/100 [00:10<01:24,  1.07it/s]"
     ]
    },
    {
     "name": "stdout",
     "output_type": "stream",
     "text": [
      "******************************\n",
      "INSERTING DATA INTO SQLITE\n",
      "INSERTED COMMENTS\n",
      "********** TOPIC: i3rtqw********** COMPLETE: 11.0 % ****\n"
     ]
    },
    {
     "name": "stderr",
     "output_type": "stream",
     "text": [
      "\r",
      " 11%|█         | 11/100 [00:11<01:30,  1.01s/it]"
     ]
    },
    {
     "name": "stdout",
     "output_type": "stream",
     "text": [
      "******************************\n",
      "INSERTING DATA INTO SQLITE\n",
      "INSERTED COMMENTS\n",
      "********** TOPIC: i3ar69********** COMPLETE: 12.0 % ****\n"
     ]
    },
    {
     "name": "stderr",
     "output_type": "stream",
     "text": [
      "\r",
      " 12%|█▏        | 12/100 [00:12<01:21,  1.08it/s]"
     ]
    },
    {
     "name": "stdout",
     "output_type": "stream",
     "text": [
      "******************************\n",
      "INSERTING DATA INTO SQLITE\n",
      "INSERTED COMMENTS\n",
      "********** TOPIC: i3e2ll********** COMPLETE: 13.0 % ****\n"
     ]
    },
    {
     "name": "stderr",
     "output_type": "stream",
     "text": [
      "\r",
      " 13%|█▎        | 13/100 [00:13<01:28,  1.01s/it]"
     ]
    },
    {
     "name": "stdout",
     "output_type": "stream",
     "text": [
      "******************************\n",
      "INSERTING DATA INTO SQLITE\n",
      "INSERTED COMMENTS\n",
      "********** TOPIC: i3c5t6********** COMPLETE: 14.000000000000002 % ****\n"
     ]
    },
    {
     "name": "stderr",
     "output_type": "stream",
     "text": [
      "\r",
      " 14%|█▍        | 14/100 [00:14<01:21,  1.05it/s]"
     ]
    },
    {
     "name": "stdout",
     "output_type": "stream",
     "text": [
      "******************************\n",
      "INSERTING DATA INTO SQLITE\n",
      "INSERTED COMMENTS\n",
      "********** TOPIC: i3ljxv********** COMPLETE: 15.0 % ****\n"
     ]
    },
    {
     "name": "stderr",
     "output_type": "stream",
     "text": [
      "\r",
      " 15%|█▌        | 15/100 [00:15<01:28,  1.04s/it]"
     ]
    },
    {
     "name": "stdout",
     "output_type": "stream",
     "text": [
      "******************************\n",
      "INSERTING DATA INTO SQLITE\n",
      "INSERTED COMMENTS\n",
      "********** TOPIC: i2sj38********** COMPLETE: 16.0 % ****\n"
     ]
    },
    {
     "name": "stderr",
     "output_type": "stream",
     "text": [
      "\r",
      " 16%|█▌        | 16/100 [00:16<01:18,  1.07it/s]"
     ]
    },
    {
     "name": "stdout",
     "output_type": "stream",
     "text": [
      "******************************\n",
      "INSERTING DATA INTO SQLITE\n",
      "INSERTED COMMENTS\n",
      "********** TOPIC: i336f0********** COMPLETE: 17.0 % ****\n"
     ]
    },
    {
     "name": "stderr",
     "output_type": "stream",
     "text": [
      "\r",
      " 17%|█▋        | 17/100 [00:17<01:23,  1.01s/it]"
     ]
    },
    {
     "name": "stdout",
     "output_type": "stream",
     "text": [
      "******************************\n",
      "INSERTING DATA INTO SQLITE\n",
      "INSERTED COMMENTS\n",
      "********** TOPIC: i3getz********** COMPLETE: 18.0 % ****\n"
     ]
    },
    {
     "name": "stderr",
     "output_type": "stream",
     "text": [
      "\r",
      " 18%|█▊        | 18/100 [00:18<01:30,  1.11s/it]"
     ]
    },
    {
     "name": "stdout",
     "output_type": "stream",
     "text": [
      "******************************\n",
      "INSERTING DATA INTO SQLITE\n",
      "INSERTED COMMENTS\n",
      "********** TOPIC: i385ua********** COMPLETE: 19.0 % ****\n"
     ]
    },
    {
     "name": "stderr",
     "output_type": "stream",
     "text": [
      "\r",
      " 19%|█▉        | 19/100 [00:19<01:20,  1.01it/s]"
     ]
    },
    {
     "name": "stdout",
     "output_type": "stream",
     "text": [
      "******************************\n",
      "INSERTING DATA INTO SQLITE\n",
      "INSERTED COMMENTS\n",
      "********** TOPIC: i3icsz********** COMPLETE: 20.0 % ****\n"
     ]
    },
    {
     "name": "stderr",
     "output_type": "stream",
     "text": [
      "\r",
      " 20%|██        | 20/100 [00:20<01:11,  1.11it/s]"
     ]
    },
    {
     "name": "stdout",
     "output_type": "stream",
     "text": [
      "******************************\n",
      "INSERTING DATA INTO SQLITE\n",
      "INSERTED COMMENTS\n",
      "********** TOPIC: i3ljei********** COMPLETE: 21.0 % ****\n"
     ]
    },
    {
     "name": "stderr",
     "output_type": "stream",
     "text": [
      "\r",
      " 21%|██        | 21/100 [00:21<01:17,  1.01it/s]"
     ]
    },
    {
     "name": "stdout",
     "output_type": "stream",
     "text": [
      "******************************\n",
      "INSERTING DATA INTO SQLITE\n",
      "INSERTED COMMENTS\n",
      "********** TOPIC: i2yuks********** COMPLETE: 22.0 % ****\n"
     ]
    },
    {
     "name": "stderr",
     "output_type": "stream",
     "text": [
      "\r",
      " 22%|██▏       | 22/100 [00:22<01:24,  1.08s/it]"
     ]
    },
    {
     "name": "stdout",
     "output_type": "stream",
     "text": [
      "******************************\n",
      "INSERTING DATA INTO SQLITE\n",
      "INSERTED COMMENTS\n",
      "********** TOPIC: i3a7xe********** COMPLETE: 23.0 % ****\n"
     ]
    },
    {
     "name": "stderr",
     "output_type": "stream",
     "text": [
      "\r",
      " 23%|██▎       | 23/100 [00:23<01:17,  1.00s/it]"
     ]
    },
    {
     "name": "stdout",
     "output_type": "stream",
     "text": [
      "******************************\n",
      "INSERTING DATA INTO SQLITE\n",
      "INSERTED COMMENTS\n",
      "********** TOPIC: i3bpsz********** COMPLETE: 24.0 % ****\n"
     ]
    },
    {
     "name": "stderr",
     "output_type": "stream",
     "text": [
      "\r",
      " 24%|██▍       | 24/100 [00:24<01:21,  1.08s/it]"
     ]
    },
    {
     "name": "stdout",
     "output_type": "stream",
     "text": [
      "******************************\n",
      "INSERTING DATA INTO SQLITE\n",
      "INSERTED COMMENTS\n",
      "********** TOPIC: i38z5x********** COMPLETE: 25.0 % ****\n"
     ]
    },
    {
     "name": "stderr",
     "output_type": "stream",
     "text": [
      "\r",
      " 25%|██▌       | 25/100 [00:25<01:12,  1.04it/s]"
     ]
    },
    {
     "name": "stdout",
     "output_type": "stream",
     "text": [
      "******************************\n",
      "INSERTING DATA INTO SQLITE\n",
      "INSERTED COMMENTS\n",
      "********** TOPIC: i367k7********** COMPLETE: 26.0 % ****\n"
     ]
    },
    {
     "name": "stderr",
     "output_type": "stream",
     "text": [
      "\r",
      " 26%|██▌       | 26/100 [00:26<01:17,  1.04s/it]"
     ]
    },
    {
     "name": "stdout",
     "output_type": "stream",
     "text": [
      "******************************\n",
      "INSERTING DATA INTO SQLITE\n",
      "INSERTED COMMENTS\n",
      "********** TOPIC: i34ghy********** COMPLETE: 27.0 % ****\n"
     ]
    },
    {
     "name": "stderr",
     "output_type": "stream",
     "text": [
      "\r",
      " 27%|██▋       | 27/100 [00:27<01:11,  1.03it/s]"
     ]
    },
    {
     "name": "stdout",
     "output_type": "stream",
     "text": [
      "******************************\n",
      "INSERTING DATA INTO SQLITE\n",
      "INSERTED COMMENTS\n",
      "********** TOPIC: i27aqx********** COMPLETE: 28.000000000000004 % ****\n"
     ]
    },
    {
     "name": "stderr",
     "output_type": "stream",
     "text": [
      "\r",
      " 28%|██▊       | 28/100 [00:29<01:31,  1.27s/it]"
     ]
    },
    {
     "name": "stdout",
     "output_type": "stream",
     "text": [
      "******************************\n",
      "INSERTING DATA INTO SQLITE\n",
      "INSERTED COMMENTS\n",
      "********** TOPIC: i35mpx********** COMPLETE: 28.999999999999996 % ****\n"
     ]
    },
    {
     "name": "stderr",
     "output_type": "stream",
     "text": [
      "\r",
      " 29%|██▉       | 29/100 [00:30<01:20,  1.13s/it]"
     ]
    },
    {
     "name": "stdout",
     "output_type": "stream",
     "text": [
      "******************************\n",
      "INSERTING DATA INTO SQLITE\n",
      "INSERTED COMMENTS\n",
      "********** TOPIC: i33gnu********** COMPLETE: 30.0 % ****\n"
     ]
    },
    {
     "name": "stderr",
     "output_type": "stream",
     "text": [
      "\r",
      " 30%|███       | 30/100 [00:31<01:10,  1.00s/it]"
     ]
    },
    {
     "name": "stdout",
     "output_type": "stream",
     "text": [
      "******************************\n",
      "INSERTING DATA INTO SQLITE\n",
      "INSERTED COMMENTS\n",
      "********** TOPIC: i2vv9g********** COMPLETE: 31.0 % ****\n"
     ]
    },
    {
     "name": "stderr",
     "output_type": "stream",
     "text": [
      "\r",
      " 31%|███       | 31/100 [00:31<01:03,  1.09it/s]"
     ]
    },
    {
     "name": "stdout",
     "output_type": "stream",
     "text": [
      "******************************\n",
      "INSERTING DATA INTO SQLITE\n",
      "INSERTED COMMENTS\n",
      "********** TOPIC: i2o0h7********** COMPLETE: 32.0 % ****\n"
     ]
    },
    {
     "name": "stderr",
     "output_type": "stream",
     "text": [
      "\r",
      " 32%|███▏      | 32/100 [00:32<00:58,  1.16it/s]"
     ]
    },
    {
     "name": "stdout",
     "output_type": "stream",
     "text": [
      "******************************\n",
      "INSERTING DATA INTO SQLITE\n",
      "INSERTED COMMENTS\n",
      "********** TOPIC: i2lwpr********** COMPLETE: 33.0 % ****\n"
     ]
    },
    {
     "name": "stderr",
     "output_type": "stream",
     "text": [
      "\r",
      " 33%|███▎      | 33/100 [00:33<01:05,  1.03it/s]"
     ]
    },
    {
     "name": "stdout",
     "output_type": "stream",
     "text": [
      "******************************\n",
      "INSERTING DATA INTO SQLITE\n",
      "INSERTED COMMENTS\n",
      "********** TOPIC: i2xolc********** COMPLETE: 34.0 % ****\n"
     ]
    },
    {
     "name": "stderr",
     "output_type": "stream",
     "text": [
      "\r",
      " 34%|███▍      | 34/100 [00:34<01:03,  1.05it/s]"
     ]
    },
    {
     "name": "stdout",
     "output_type": "stream",
     "text": [
      "******************************\n",
      "INSERTING DATA INTO SQLITE\n",
      "INSERTED COMMENTS\n",
      "********** TOPIC: i2jqsn********** COMPLETE: 35.0 % ****\n"
     ]
    },
    {
     "name": "stderr",
     "output_type": "stream",
     "text": [
      "\r",
      " 35%|███▌      | 35/100 [00:35<01:09,  1.07s/it]"
     ]
    },
    {
     "name": "stdout",
     "output_type": "stream",
     "text": [
      "******************************\n",
      "INSERTING DATA INTO SQLITE\n",
      "INSERTED COMMENTS\n",
      "********** TOPIC: i306dw********** COMPLETE: 36.0 % ****\n"
     ]
    },
    {
     "name": "stderr",
     "output_type": "stream",
     "text": [
      "\r",
      " 36%|███▌      | 36/100 [00:36<01:03,  1.01it/s]"
     ]
    },
    {
     "name": "stdout",
     "output_type": "stream",
     "text": [
      "******************************\n",
      "INSERTING DATA INTO SQLITE\n",
      "INSERTED COMMENTS\n",
      "********** TOPIC: i302tr********** COMPLETE: 37.0 % ****\n"
     ]
    },
    {
     "name": "stderr",
     "output_type": "stream",
     "text": [
      "\r",
      " 37%|███▋      | 37/100 [00:37<00:57,  1.10it/s]"
     ]
    },
    {
     "name": "stdout",
     "output_type": "stream",
     "text": [
      "******************************\n",
      "INSERTING DATA INTO SQLITE\n",
      "INSERTED COMMENTS\n",
      "********** TOPIC: i2fsbk********** COMPLETE: 38.0 % ****\n"
     ]
    },
    {
     "name": "stderr",
     "output_type": "stream",
     "text": [
      "\r",
      " 38%|███▊      | 38/100 [00:38<01:04,  1.04s/it]"
     ]
    },
    {
     "name": "stdout",
     "output_type": "stream",
     "text": [
      "******************************\n",
      "INSERTING DATA INTO SQLITE\n",
      "INSERTED COMMENTS\n",
      "********** TOPIC: i2uich********** COMPLETE: 39.0 % ****\n"
     ]
    },
    {
     "name": "stderr",
     "output_type": "stream",
     "text": [
      "\r",
      " 39%|███▉      | 39/100 [00:39<00:57,  1.07it/s]"
     ]
    },
    {
     "name": "stdout",
     "output_type": "stream",
     "text": [
      "******************************\n",
      "INSERTING DATA INTO SQLITE\n",
      "INSERTED COMMENTS\n",
      "********** TOPIC: i2nfhz********** COMPLETE: 40.0 % ****\n"
     ]
    },
    {
     "name": "stderr",
     "output_type": "stream",
     "text": [
      "\r",
      " 40%|████      | 40/100 [00:40<01:01,  1.02s/it]"
     ]
    },
    {
     "name": "stdout",
     "output_type": "stream",
     "text": [
      "******************************\n",
      "INSERTING DATA INTO SQLITE\n",
      "INSERTED COMMENTS\n",
      "********** TOPIC: i2nfhr********** COMPLETE: 41.0 % ****\n"
     ]
    },
    {
     "name": "stderr",
     "output_type": "stream",
     "text": [
      "\r",
      " 41%|████      | 41/100 [00:41<00:54,  1.08it/s]"
     ]
    },
    {
     "name": "stdout",
     "output_type": "stream",
     "text": [
      "******************************\n",
      "INSERTING DATA INTO SQLITE\n",
      "INSERTED COMMENTS\n",
      "********** TOPIC: i2emst********** COMPLETE: 42.0 % ****\n"
     ]
    },
    {
     "name": "stderr",
     "output_type": "stream",
     "text": [
      "\r",
      " 42%|████▏     | 42/100 [00:42<00:58,  1.01s/it]"
     ]
    },
    {
     "name": "stdout",
     "output_type": "stream",
     "text": [
      "******************************\n",
      "INSERTING DATA INTO SQLITE\n",
      "INSERTED COMMENTS\n",
      "********** TOPIC: i2wrgz********** COMPLETE: 43.0 % ****\n"
     ]
    },
    {
     "name": "stderr",
     "output_type": "stream",
     "text": [
      "\r",
      " 43%|████▎     | 43/100 [00:43<00:56,  1.01it/s]"
     ]
    },
    {
     "name": "stdout",
     "output_type": "stream",
     "text": [
      "******************************\n",
      "INSERTING DATA INTO SQLITE\n",
      "INSERTED COMMENTS\n",
      "********** TOPIC: i2hu5x********** COMPLETE: 44.0 % ****\n"
     ]
    },
    {
     "name": "stderr",
     "output_type": "stream",
     "text": [
      "\r",
      " 44%|████▍     | 44/100 [00:44<00:59,  1.06s/it]"
     ]
    },
    {
     "name": "stdout",
     "output_type": "stream",
     "text": [
      "******************************\n",
      "INSERTING DATA INTO SQLITE\n",
      "INSERTED COMMENTS\n",
      "********** TOPIC: i2g4r4********** COMPLETE: 45.0 % ****\n"
     ]
    },
    {
     "name": "stderr",
     "output_type": "stream",
     "text": [
      "\r",
      " 45%|████▌     | 45/100 [00:45<00:52,  1.05it/s]"
     ]
    },
    {
     "name": "stdout",
     "output_type": "stream",
     "text": [
      "******************************\n",
      "INSERTING DATA INTO SQLITE\n",
      "INSERTED COMMENTS\n",
      "********** TOPIC: i27qo3********** COMPLETE: 46.0 % ****\n"
     ]
    },
    {
     "name": "stderr",
     "output_type": "stream",
     "text": [
      "\r",
      " 46%|████▌     | 46/100 [00:46<00:58,  1.09s/it]"
     ]
    },
    {
     "name": "stdout",
     "output_type": "stream",
     "text": [
      "******************************\n",
      "INSERTING DATA INTO SQLITE\n",
      "INSERTED COMMENTS\n",
      "********** TOPIC: i1xe47********** COMPLETE: 47.0 % ****\n"
     ]
    },
    {
     "name": "stderr",
     "output_type": "stream",
     "text": [
      "\r",
      " 47%|████▋     | 47/100 [00:47<00:51,  1.03it/s]"
     ]
    },
    {
     "name": "stdout",
     "output_type": "stream",
     "text": [
      "******************************\n",
      "INSERTING DATA INTO SQLITE\n",
      "INSERTED COMMENTS\n",
      "********** TOPIC: i2fafk********** COMPLETE: 48.0 % ****\n"
     ]
    },
    {
     "name": "stderr",
     "output_type": "stream",
     "text": [
      "\r",
      " 48%|████▊     | 48/100 [00:48<00:46,  1.11it/s]"
     ]
    },
    {
     "name": "stdout",
     "output_type": "stream",
     "text": [
      "******************************\n",
      "INSERTING DATA INTO SQLITE\n",
      "INSERTED COMMENTS\n",
      "********** TOPIC: i2i9mr********** COMPLETE: 49.0 % ****\n"
     ]
    },
    {
     "name": "stderr",
     "output_type": "stream",
     "text": [
      "\r",
      " 49%|████▉     | 49/100 [00:49<00:51,  1.01s/it]"
     ]
    },
    {
     "name": "stdout",
     "output_type": "stream",
     "text": [
      "******************************\n",
      "INSERTING DATA INTO SQLITE\n",
      "INSERTED COMMENTS\n",
      "********** TOPIC: i2nhos********** COMPLETE: 50.0 % ****\n"
     ]
    },
    {
     "name": "stderr",
     "output_type": "stream",
     "text": [
      "\r",
      " 50%|█████     | 50/100 [00:50<00:45,  1.09it/s]"
     ]
    },
    {
     "name": "stdout",
     "output_type": "stream",
     "text": [
      "******************************\n",
      "INSERTING DATA INTO SQLITE\n",
      "INSERTED COMMENTS\n",
      "********** TOPIC: i2b4sb********** COMPLETE: 51.0 % ****\n"
     ]
    },
    {
     "name": "stderr",
     "output_type": "stream",
     "text": [
      "\r",
      " 51%|█████     | 51/100 [00:51<00:50,  1.03s/it]"
     ]
    },
    {
     "name": "stdout",
     "output_type": "stream",
     "text": [
      "******************************\n",
      "INSERTING DATA INTO SQLITE\n",
      "INSERTED COMMENTS\n",
      "********** TOPIC: i2m7tk********** COMPLETE: 52.0 % ****\n"
     ]
    },
    {
     "name": "stderr",
     "output_type": "stream",
     "text": [
      "\r",
      " 52%|█████▏    | 52/100 [00:52<00:52,  1.09s/it]"
     ]
    },
    {
     "name": "stdout",
     "output_type": "stream",
     "text": [
      "******************************\n",
      "INSERTING DATA INTO SQLITE\n",
      "INSERTED COMMENTS\n",
      "********** TOPIC: i2m6oe********** COMPLETE: 53.0 % ****\n"
     ]
    },
    {
     "name": "stderr",
     "output_type": "stream",
     "text": [
      "\r",
      " 53%|█████▎    | 53/100 [00:53<00:45,  1.02it/s]"
     ]
    },
    {
     "name": "stdout",
     "output_type": "stream",
     "text": [
      "******************************\n",
      "INSERTING DATA INTO SQLITE\n",
      "INSERTED COMMENTS\n",
      "********** TOPIC: i2c87i********** COMPLETE: 54.0 % ****\n"
     ]
    },
    {
     "name": "stderr",
     "output_type": "stream",
     "text": [
      "\r",
      " 54%|█████▍    | 54/100 [00:54<00:41,  1.11it/s]"
     ]
    },
    {
     "name": "stdout",
     "output_type": "stream",
     "text": [
      "******************************\n",
      "INSERTING DATA INTO SQLITE\n",
      "INSERTED COMMENTS\n",
      "********** TOPIC: i2fk9s********** COMPLETE: 55.00000000000001 % ****\n"
     ]
    },
    {
     "name": "stderr",
     "output_type": "stream",
     "text": [
      "\r",
      " 55%|█████▌    | 55/100 [00:55<00:44,  1.01it/s]"
     ]
    },
    {
     "name": "stdout",
     "output_type": "stream",
     "text": [
      "******************************\n",
      "INSERTING DATA INTO SQLITE\n",
      "INSERTED COMMENTS\n",
      "********** TOPIC: i2knj2********** COMPLETE: 56.00000000000001 % ****\n"
     ]
    },
    {
     "name": "stderr",
     "output_type": "stream",
     "text": [
      "\r",
      " 56%|█████▌    | 56/100 [00:56<00:46,  1.06s/it]"
     ]
    },
    {
     "name": "stdout",
     "output_type": "stream",
     "text": [
      "******************************\n",
      "INSERTING DATA INTO SQLITE\n",
      "INSERTED COMMENTS\n",
      "********** TOPIC: i2e81b********** COMPLETE: 56.99999999999999 % ****\n"
     ]
    },
    {
     "name": "stderr",
     "output_type": "stream",
     "text": [
      "\r",
      " 57%|█████▋    | 57/100 [00:57<00:41,  1.04it/s]"
     ]
    },
    {
     "name": "stdout",
     "output_type": "stream",
     "text": [
      "******************************\n",
      "INSERTING DATA INTO SQLITE\n",
      "INSERTED COMMENTS\n",
      "********** TOPIC: i2jgs5********** COMPLETE: 57.99999999999999 % ****\n"
     ]
    },
    {
     "name": "stderr",
     "output_type": "stream",
     "text": [
      "\r",
      " 58%|█████▊    | 58/100 [00:58<00:44,  1.05s/it]"
     ]
    },
    {
     "name": "stdout",
     "output_type": "stream",
     "text": [
      "******************************\n",
      "INSERTING DATA INTO SQLITE\n",
      "INSERTED COMMENTS\n",
      "********** TOPIC: i1vus1********** COMPLETE: 59.0 % ****\n"
     ]
    },
    {
     "name": "stderr",
     "output_type": "stream",
     "text": [
      "\r",
      " 59%|█████▉    | 59/100 [00:59<00:39,  1.04it/s]"
     ]
    },
    {
     "name": "stdout",
     "output_type": "stream",
     "text": [
      "******************************\n",
      "INSERTING DATA INTO SQLITE\n",
      "INSERTED COMMENTS\n",
      "********** TOPIC: i26rzy********** COMPLETE: 60.0 % ****\n"
     ]
    },
    {
     "name": "stderr",
     "output_type": "stream",
     "text": [
      "\r",
      " 60%|██████    | 60/100 [01:00<00:41,  1.04s/it]"
     ]
    },
    {
     "name": "stdout",
     "output_type": "stream",
     "text": [
      "******************************\n",
      "INSERTING DATA INTO SQLITE\n",
      "INSERTED COMMENTS\n",
      "********** TOPIC: i27jpr********** COMPLETE: 61.0 % ****\n"
     ]
    },
    {
     "name": "stderr",
     "output_type": "stream",
     "text": [
      "\r",
      " 61%|██████    | 61/100 [01:01<00:36,  1.06it/s]"
     ]
    },
    {
     "name": "stdout",
     "output_type": "stream",
     "text": [
      "******************************\n",
      "INSERTING DATA INTO SQLITE\n",
      "INSERTED COMMENTS\n",
      "********** TOPIC: i1jcmu********** COMPLETE: 62.0 % ****\n"
     ]
    },
    {
     "name": "stderr",
     "output_type": "stream",
     "text": [
      "\r",
      " 62%|██████▏   | 62/100 [01:03<00:50,  1.33s/it]"
     ]
    },
    {
     "name": "stdout",
     "output_type": "stream",
     "text": [
      "******************************\n",
      "INSERTING DATA INTO SQLITE\n",
      "INSERTED COMMENTS\n",
      "********** TOPIC: i29ofw********** COMPLETE: 63.0 % ****\n"
     ]
    },
    {
     "name": "stderr",
     "output_type": "stream",
     "text": [
      "\r",
      " 63%|██████▎   | 63/100 [01:04<00:43,  1.17s/it]"
     ]
    },
    {
     "name": "stdout",
     "output_type": "stream",
     "text": [
      "******************************\n",
      "INSERTING DATA INTO SQLITE\n",
      "INSERTED COMMENTS\n",
      "********** TOPIC: i2c2ge********** COMPLETE: 64.0 % ****\n"
     ]
    },
    {
     "name": "stderr",
     "output_type": "stream",
     "text": [
      "\r",
      " 64%|██████▍   | 64/100 [01:05<00:37,  1.03s/it]"
     ]
    },
    {
     "name": "stdout",
     "output_type": "stream",
     "text": [
      "******************************\n",
      "INSERTING DATA INTO SQLITE\n",
      "INSERTED COMMENTS\n",
      "********** TOPIC: i1t3y6********** COMPLETE: 65.0 % ****\n"
     ]
    },
    {
     "name": "stderr",
     "output_type": "stream",
     "text": [
      "\r",
      " 65%|██████▌   | 65/100 [01:05<00:34,  1.03it/s]"
     ]
    },
    {
     "name": "stdout",
     "output_type": "stream",
     "text": [
      "******************************\n",
      "INSERTING DATA INTO SQLITE\n",
      "INSERTED COMMENTS\n",
      "********** TOPIC: i27n2u********** COMPLETE: 66.0 % ****\n"
     ]
    },
    {
     "name": "stderr",
     "output_type": "stream",
     "text": [
      "\r",
      " 66%|██████▌   | 66/100 [01:06<00:30,  1.12it/s]"
     ]
    },
    {
     "name": "stdout",
     "output_type": "stream",
     "text": [
      "******************************\n",
      "INSERTING DATA INTO SQLITE\n",
      "INSERTED COMMENTS\n",
      "********** TOPIC: i1w2kq********** COMPLETE: 67.0 % ****\n"
     ]
    },
    {
     "name": "stderr",
     "output_type": "stream",
     "text": [
      "\r",
      " 67%|██████▋   | 67/100 [01:07<00:27,  1.18it/s]"
     ]
    },
    {
     "name": "stdout",
     "output_type": "stream",
     "text": [
      "******************************\n",
      "INSERTING DATA INTO SQLITE\n",
      "INSERTED COMMENTS\n",
      "********** TOPIC: i24nfh********** COMPLETE: 68.0 % ****\n"
     ]
    },
    {
     "name": "stderr",
     "output_type": "stream",
     "text": [
      "\r",
      " 68%|██████▊   | 68/100 [01:08<00:31,  1.03it/s]"
     ]
    },
    {
     "name": "stdout",
     "output_type": "stream",
     "text": [
      "******************************\n",
      "INSERTING DATA INTO SQLITE\n",
      "INSERTED COMMENTS\n",
      "********** TOPIC: i22uta********** COMPLETE: 69.0 % ****\n"
     ]
    },
    {
     "name": "stderr",
     "output_type": "stream",
     "text": [
      "\r",
      " 69%|██████▉   | 69/100 [01:09<00:28,  1.10it/s]"
     ]
    },
    {
     "name": "stdout",
     "output_type": "stream",
     "text": [
      "******************************\n",
      "INSERTING DATA INTO SQLITE\n",
      "INSERTED COMMENTS\n",
      "********** TOPIC: i1xyfw********** COMPLETE: 70.0 % ****\n"
     ]
    },
    {
     "name": "stderr",
     "output_type": "stream",
     "text": [
      "\r",
      " 70%|███████   | 70/100 [01:10<00:29,  1.00it/s]"
     ]
    },
    {
     "name": "stdout",
     "output_type": "stream",
     "text": [
      "******************************\n",
      "INSERTING DATA INTO SQLITE\n",
      "INSERTED COMMENTS\n",
      "********** TOPIC: i27dkj********** COMPLETE: 71.0 % ****\n"
     ]
    },
    {
     "name": "stderr",
     "output_type": "stream",
     "text": [
      "\r",
      " 71%|███████   | 71/100 [01:11<00:26,  1.09it/s]"
     ]
    },
    {
     "name": "stdout",
     "output_type": "stream",
     "text": [
      "******************************\n",
      "INSERTING DATA INTO SQLITE\n",
      "INSERTED COMMENTS\n",
      "********** TOPIC: i1y0c4********** COMPLETE: 72.0 % ****\n"
     ]
    },
    {
     "name": "stderr",
     "output_type": "stream",
     "text": [
      "\r",
      " 72%|███████▏  | 72/100 [01:12<00:28,  1.01s/it]"
     ]
    },
    {
     "name": "stdout",
     "output_type": "stream",
     "text": [
      "******************************\n",
      "INSERTING DATA INTO SQLITE\n",
      "INSERTED COMMENTS\n",
      "********** TOPIC: i1w9j8********** COMPLETE: 73.0 % ****\n"
     ]
    },
    {
     "name": "stderr",
     "output_type": "stream",
     "text": [
      "\r",
      " 73%|███████▎  | 73/100 [01:13<00:25,  1.07it/s]"
     ]
    },
    {
     "name": "stdout",
     "output_type": "stream",
     "text": [
      "******************************\n",
      "INSERTING DATA INTO SQLITE\n",
      "INSERTED COMMENTS\n",
      "********** TOPIC: i1vakt********** COMPLETE: 74.0 % ****\n"
     ]
    },
    {
     "name": "stderr",
     "output_type": "stream",
     "text": [
      "\r",
      " 74%|███████▍  | 74/100 [01:14<00:26,  1.00s/it]"
     ]
    },
    {
     "name": "stdout",
     "output_type": "stream",
     "text": [
      "******************************\n",
      "INSERTING DATA INTO SQLITE\n",
      "INSERTED COMMENTS\n",
      "********** TOPIC: i1vl94********** COMPLETE: 75.0 % ****\n"
     ]
    },
    {
     "name": "stderr",
     "output_type": "stream",
     "text": [
      "\r",
      " 75%|███████▌  | 75/100 [01:15<00:26,  1.07s/it]"
     ]
    },
    {
     "name": "stdout",
     "output_type": "stream",
     "text": [
      "******************************\n",
      "INSERTING DATA INTO SQLITE\n",
      "INSERTED COMMENTS\n",
      "********** TOPIC: i1wh3d********** COMPLETE: 76.0 % ****\n"
     ]
    },
    {
     "name": "stderr",
     "output_type": "stream",
     "text": [
      "\r",
      " 76%|███████▌  | 76/100 [01:16<00:23,  1.02it/s]"
     ]
    },
    {
     "name": "stdout",
     "output_type": "stream",
     "text": [
      "******************************\n",
      "INSERTING DATA INTO SQLITE\n",
      "INSERTED COMMENTS\n",
      "********** TOPIC: i21aom********** COMPLETE: 77.0 % ****\n"
     ]
    },
    {
     "name": "stderr",
     "output_type": "stream",
     "text": [
      "\r",
      " 77%|███████▋  | 77/100 [01:17<00:24,  1.07s/it]"
     ]
    },
    {
     "name": "stdout",
     "output_type": "stream",
     "text": [
      "******************************\n",
      "INSERTING DATA INTO SQLITE\n",
      "INSERTED COMMENTS\n",
      "********** TOPIC: i0y39c********** COMPLETE: 78.0 % ****\n"
     ]
    },
    {
     "name": "stderr",
     "output_type": "stream",
     "text": [
      "\r",
      " 78%|███████▊  | 78/100 [01:18<00:23,  1.05s/it]"
     ]
    },
    {
     "name": "stdout",
     "output_type": "stream",
     "text": [
      "******************************\n",
      "INSERTING DATA INTO SQLITE\n",
      "INSERTED COMMENTS\n",
      "********** TOPIC: i1m8w0********** COMPLETE: 79.0 % ****\n"
     ]
    },
    {
     "name": "stderr",
     "output_type": "stream",
     "text": [
      "\r",
      " 79%|███████▉  | 79/100 [01:19<00:22,  1.09s/it]"
     ]
    },
    {
     "name": "stdout",
     "output_type": "stream",
     "text": [
      "******************************\n",
      "INSERTING DATA INTO SQLITE\n",
      "INSERTED COMMENTS\n",
      "********** TOPIC: i1fizq********** COMPLETE: 80.0 % ****\n"
     ]
    },
    {
     "name": "stderr",
     "output_type": "stream",
     "text": [
      "\r",
      " 80%|████████  | 80/100 [01:20<00:20,  1.02s/it]"
     ]
    },
    {
     "name": "stdout",
     "output_type": "stream",
     "text": [
      "******************************\n",
      "INSERTING DATA INTO SQLITE\n",
      "INSERTED COMMENTS\n",
      "********** TOPIC: i2509o********** COMPLETE: 81.0 % ****\n"
     ]
    },
    {
     "name": "stderr",
     "output_type": "stream",
     "text": [
      "\r",
      " 81%|████████  | 81/100 [01:21<00:18,  1.04it/s]"
     ]
    },
    {
     "name": "stdout",
     "output_type": "stream",
     "text": [
      "******************************\n",
      "INSERTING DATA INTO SQLITE\n",
      "INSERTED COMMENTS\n",
      "********** TOPIC: i24hw7********** COMPLETE: 82.0 % ****\n"
     ]
    },
    {
     "name": "stderr",
     "output_type": "stream",
     "text": [
      "\r",
      " 82%|████████▏ | 82/100 [01:22<00:18,  1.04s/it]"
     ]
    },
    {
     "name": "stdout",
     "output_type": "stream",
     "text": [
      "******************************\n",
      "INSERTING DATA INTO SQLITE\n",
      "INSERTED COMMENTS\n",
      "********** TOPIC: i1m4qv********** COMPLETE: 83.0 % ****\n"
     ]
    },
    {
     "name": "stderr",
     "output_type": "stream",
     "text": [
      "\r",
      " 83%|████████▎ | 83/100 [01:23<00:16,  1.05it/s]"
     ]
    },
    {
     "name": "stdout",
     "output_type": "stream",
     "text": [
      "******************************\n",
      "INSERTING DATA INTO SQLITE\n",
      "INSERTED COMMENTS\n",
      "********** TOPIC: i16tg0********** COMPLETE: 84.0 % ****\n"
     ]
    },
    {
     "name": "stderr",
     "output_type": "stream",
     "text": [
      "\r",
      " 84%|████████▍ | 84/100 [01:24<00:14,  1.11it/s]"
     ]
    },
    {
     "name": "stdout",
     "output_type": "stream",
     "text": [
      "******************************\n",
      "INSERTING DATA INTO SQLITE\n",
      "INSERTED COMMENTS\n",
      "********** TOPIC: i1njzd********** COMPLETE: 85.0 % ****\n"
     ]
    },
    {
     "name": "stderr",
     "output_type": "stream",
     "text": [
      "\r",
      " 85%|████████▌ | 85/100 [01:25<00:14,  1.00it/s]"
     ]
    },
    {
     "name": "stdout",
     "output_type": "stream",
     "text": [
      "******************************\n",
      "INSERTING DATA INTO SQLITE\n",
      "INSERTED COMMENTS\n",
      "********** TOPIC: i1q2nw********** COMPLETE: 86.0 % ****\n"
     ]
    },
    {
     "name": "stderr",
     "output_type": "stream",
     "text": [
      "\r",
      " 86%|████████▌ | 86/100 [01:26<00:13,  1.06it/s]"
     ]
    },
    {
     "name": "stdout",
     "output_type": "stream",
     "text": [
      "******************************\n",
      "INSERTING DATA INTO SQLITE\n",
      "INSERTED COMMENTS\n",
      "********** TOPIC: i1pr1k********** COMPLETE: 87.0 % ****\n"
     ]
    },
    {
     "name": "stderr",
     "output_type": "stream",
     "text": [
      "\r",
      " 87%|████████▋ | 87/100 [01:27<00:13,  1.06s/it]"
     ]
    },
    {
     "name": "stdout",
     "output_type": "stream",
     "text": [
      "******************************\n",
      "INSERTING DATA INTO SQLITE\n",
      "INSERTED COMMENTS\n",
      "********** TOPIC: i1liz2********** COMPLETE: 88.0 % ****\n"
     ]
    },
    {
     "name": "stderr",
     "output_type": "stream",
     "text": [
      "\r",
      " 88%|████████▊ | 88/100 [01:28<00:11,  1.01it/s]"
     ]
    },
    {
     "name": "stdout",
     "output_type": "stream",
     "text": [
      "******************************\n",
      "INSERTING DATA INTO SQLITE\n",
      "INSERTED COMMENTS\n",
      "********** TOPIC: i1fnqi********** COMPLETE: 89.0 % ****\n"
     ]
    },
    {
     "name": "stderr",
     "output_type": "stream",
     "text": [
      "\r",
      " 89%|████████▉ | 89/100 [01:29<00:11,  1.06s/it]"
     ]
    },
    {
     "name": "stdout",
     "output_type": "stream",
     "text": [
      "******************************\n",
      "INSERTING DATA INTO SQLITE\n",
      "INSERTED COMMENTS\n",
      "********** TOPIC: i1hph2********** COMPLETE: 90.0 % ****\n"
     ]
    },
    {
     "name": "stderr",
     "output_type": "stream",
     "text": [
      "\r",
      " 90%|█████████ | 90/100 [01:30<00:09,  1.06it/s]"
     ]
    },
    {
     "name": "stdout",
     "output_type": "stream",
     "text": [
      "******************************\n",
      "INSERTING DATA INTO SQLITE\n",
      "INSERTED COMMENTS\n",
      "********** TOPIC: i1ejfv********** COMPLETE: 91.0 % ****\n"
     ]
    },
    {
     "name": "stderr",
     "output_type": "stream",
     "text": [
      "\r",
      " 91%|█████████ | 91/100 [01:31<00:09,  1.02s/it]"
     ]
    },
    {
     "name": "stdout",
     "output_type": "stream",
     "text": [
      "******************************\n",
      "INSERTING DATA INTO SQLITE\n",
      "INSERTED COMMENTS\n",
      "********** TOPIC: i1eitm********** COMPLETE: 92.0 % ****\n"
     ]
    },
    {
     "name": "stderr",
     "output_type": "stream",
     "text": [
      "\r",
      " 92%|█████████▏| 92/100 [01:32<00:07,  1.08it/s]"
     ]
    },
    {
     "name": "stdout",
     "output_type": "stream",
     "text": [
      "******************************\n",
      "INSERTING DATA INTO SQLITE\n",
      "INSERTED COMMENTS\n",
      "********** TOPIC: i18lvu********** COMPLETE: 93.0 % ****\n"
     ]
    },
    {
     "name": "stderr",
     "output_type": "stream",
     "text": [
      "\r",
      " 93%|█████████▎| 93/100 [01:33<00:07,  1.00s/it]"
     ]
    },
    {
     "name": "stdout",
     "output_type": "stream",
     "text": [
      "******************************\n",
      "INSERTING DATA INTO SQLITE\n",
      "INSERTED COMMENTS\n",
      "********** TOPIC: i1jhhz********** COMPLETE: 94.0 % ****\n"
     ]
    },
    {
     "name": "stderr",
     "output_type": "stream",
     "text": [
      "\r",
      " 94%|█████████▍| 94/100 [01:34<00:05,  1.01it/s]"
     ]
    },
    {
     "name": "stdout",
     "output_type": "stream",
     "text": [
      "******************************\n",
      "INSERTING DATA INTO SQLITE\n",
      "INSERTED COMMENTS\n",
      "********** TOPIC: i1mjpz********** COMPLETE: 95.0 % ****\n"
     ]
    },
    {
     "name": "stderr",
     "output_type": "stream",
     "text": [
      "\r",
      " 95%|█████████▌| 95/100 [01:35<00:05,  1.06s/it]"
     ]
    },
    {
     "name": "stdout",
     "output_type": "stream",
     "text": [
      "******************************\n",
      "INSERTING DATA INTO SQLITE\n",
      "INSERTED COMMENTS\n",
      "********** TOPIC: i0nnud********** COMPLETE: 96.0 % ****\n"
     ]
    },
    {
     "name": "stderr",
     "output_type": "stream",
     "text": [
      "\r",
      " 96%|█████████▌| 96/100 [01:36<00:03,  1.03it/s]"
     ]
    },
    {
     "name": "stdout",
     "output_type": "stream",
     "text": [
      "******************************\n",
      "INSERTING DATA INTO SQLITE\n",
      "INSERTED COMMENTS\n",
      "********** TOPIC: i1calv********** COMPLETE: 97.0 % ****\n"
     ]
    },
    {
     "name": "stderr",
     "output_type": "stream",
     "text": [
      "\r",
      " 97%|█████████▋| 97/100 [01:38<00:03,  1.14s/it]"
     ]
    },
    {
     "name": "stdout",
     "output_type": "stream",
     "text": [
      "******************************\n",
      "INSERTING DATA INTO SQLITE\n",
      "INSERTED COMMENTS\n",
      "********** TOPIC: i13vry********** COMPLETE: 98.0 % ****\n"
     ]
    },
    {
     "name": "stderr",
     "output_type": "stream",
     "text": [
      "\r",
      " 98%|█████████▊| 98/100 [01:38<00:02,  1.01s/it]"
     ]
    },
    {
     "name": "stdout",
     "output_type": "stream",
     "text": [
      "******************************\n",
      "INSERTING DATA INTO SQLITE\n",
      "INSERTED COMMENTS\n",
      "********** TOPIC: i1bz1y********** COMPLETE: 99.0 % ****\n"
     ]
    },
    {
     "name": "stderr",
     "output_type": "stream",
     "text": [
      "\r",
      " 99%|█████████▉| 99/100 [01:39<00:00,  1.03it/s]"
     ]
    },
    {
     "name": "stdout",
     "output_type": "stream",
     "text": [
      "******************************\n",
      "INSERTING DATA INTO SQLITE\n",
      "INSERTED COMMENTS\n",
      "********** TOPIC: i1hqg7********** COMPLETE: 100.0 % ****\n"
     ]
    },
    {
     "name": "stderr",
     "output_type": "stream",
     "text": [
      "100%|██████████| 100/100 [01:40<00:00,  1.01s/it]"
     ]
    },
    {
     "name": "stdout",
     "output_type": "stream",
     "text": [
      "******************************\n",
      "INSERTING DATA INTO SQLITE\n",
      "INSERTED COMMENTS\n"
     ]
    },
    {
     "name": "stderr",
     "output_type": "stream",
     "text": [
      "\n"
     ]
    }
   ],
   "source": [
    "for subject in subreddits:\n",
    "    prawGetData(limit=limit, subredditName=subject)"
   ]
  },
  {
   "cell_type": "code",
   "execution_count": null,
   "metadata": {},
   "outputs": [],
   "source": []
  }
 ],
 "metadata": {
  "kernelspec": {
   "display_name": "hosting_ml_as_microservice",
   "language": "python",
   "name": "hosting_ml_as_microservice"
  },
  "language_info": {
   "codemirror_mode": {
    "name": "ipython",
    "version": 3
   },
   "file_extension": ".py",
   "mimetype": "text/x-python",
   "name": "python",
   "nbconvert_exporter": "python",
   "pygments_lexer": "ipython3",
   "version": "3.7.7"
  }
 },
 "nbformat": 4,
 "nbformat_minor": 4
}

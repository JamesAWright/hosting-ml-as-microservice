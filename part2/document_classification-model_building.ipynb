{
 "cells": [
  {
   "cell_type": "code",
   "execution_count": 8,
   "metadata": {},
   "outputs": [],
   "source": [
    "import pandas as pd\n",
    "import pickle\n",
    "import nltk\n",
    "from sklearn.model_selection import train_test_split"
   ]
  },
  {
   "cell_type": "code",
   "execution_count": 9,
   "metadata": {},
   "outputs": [],
   "source": [
    "with open('reddit_data.p','rb') as f:\n",
    "    df = pickle.load(f)\n",
    "\n",
    "train, test = train_test_split(df, test_size=0.2)"
   ]
  },
  {
   "cell_type": "code",
   "execution_count": 10,
   "metadata": {},
   "outputs": [],
   "source": [
    "classifier  = nltk.NaiveBayesClassifier.train(train.apply(lambda x: (x['data'],x['label']),axis=1).to_list())"
   ]
  },
  {
   "cell_type": "code",
   "execution_count": 12,
   "metadata": {},
   "outputs": [
    {
     "data": {
      "text/plain": [
       "0.875"
      ]
     },
     "execution_count": 12,
     "metadata": {},
     "output_type": "execute_result"
    }
   ],
   "source": [
    "nltk.classify.accuracy(classifier, test.apply(lambda x: (x['data'],x['label']),axis=1).to_list())"
   ]
  },
  {
   "cell_type": "code",
   "execution_count": 13,
   "metadata": {},
   "outputs": [
    {
     "name": "stdout",
     "output_type": "stream",
     "text": [
      "Most Informative Features\n",
      "                   learn = True           datasc : gameof =     16.2 : 1.0\n",
      "                     job = True           datasc : gameof =     15.5 : 1.0\n",
      "                 project = True           datasc : gameof =     13.2 : 1.0\n",
      "                  experi = True           datasc : gameof =     12.5 : 1.0\n",
      "                    game = True           gameof : datasc =     10.3 : 1.0\n",
      "                   thank = True           datasc : gameof =      9.4 : 1.0\n",
      "                       r = True           datasc : gameof =      8.7 : 1.0\n",
      "                 analysi = True           datasc : gameof =      7.9 : 1.0\n",
      "                   build = True           datasc : gameof =      7.9 : 1.0\n",
      "                   watch = True           gameof : datasc =      7.4 : 1.0\n",
      "                      ), = True           datasc : gameof =      7.2 : 1.0\n",
      "                 predict = True           datasc : gameof =      7.2 : 1.0\n",
      "                 product = True           datasc : gameof =      7.2 : 1.0\n",
      "                    test = True           datasc : gameof =      7.2 : 1.0\n",
      "                  visual = True           datasc : gameof =      7.2 : 1.0\n",
      "                    work = True           datasc : gameof =      6.9 : 1.0\n",
      "                     big = True           datasc : gameof =      6.4 : 1.0\n",
      "                  featur = True           datasc : gameof =      6.4 : 1.0\n",
      "                 suggest = True           datasc : gameof =      6.4 : 1.0\n",
      "                    valu = True           datasc : gameof =      6.4 : 1.0\n",
      "None\n"
     ]
    }
   ],
   "source": [
    "print(classifier.show_most_informative_features(20))"
   ]
  },
  {
   "cell_type": "code",
   "execution_count": 16,
   "metadata": {},
   "outputs": [],
   "source": [
    "classifier2 = nltk.DecisionTreeClassifier.train(train.apply(lambda x: (x['data'],x['label']),axis=1).to_list())"
   ]
  },
  {
   "cell_type": "code",
   "execution_count": 18,
   "metadata": {},
   "outputs": [
    {
     "data": {
      "text/plain": [
       "0.875"
      ]
     },
     "execution_count": 18,
     "metadata": {},
     "output_type": "execute_result"
    }
   ],
   "source": [
    "nltk.classify.accuracy(classifier,test.apply(lambda x: (x['data'],x['label']),axis=1).to_list())"
   ]
  },
  {
   "cell_type": "code",
   "execution_count": 22,
   "metadata": {},
   "outputs": [
    {
     "name": "stdout",
     "output_type": "stream",
     "text": [
      "if spoiler == False: return 'datascience'\n",
      "if spoiler == True: return 'gameofthrones'\n",
      "\n"
     ]
    }
   ],
   "source": [
    "print(classifier2.pseudocode(depth=1))"
   ]
  },
  {
   "cell_type": "code",
   "execution_count": null,
   "metadata": {},
   "outputs": [],
   "source": []
  }
 ],
 "metadata": {
  "kernelspec": {
   "display_name": "hosting_ml_as_microservice",
   "language": "python",
   "name": "hosting_ml_as_microservice"
  },
  "language_info": {
   "codemirror_mode": {
    "name": "ipython",
    "version": 3
   },
   "file_extension": ".py",
   "mimetype": "text/x-python",
   "name": "python",
   "nbconvert_exporter": "python",
   "pygments_lexer": "ipython3",
   "version": "3.7.7"
  }
 },
 "nbformat": 4,
 "nbformat_minor": 4
}
